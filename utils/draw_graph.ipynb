{
 "cells": [
  {
   "cell_type": "code",
   "execution_count": null,
   "metadata": {},
   "outputs": [],
   "source": [
    "!pip install notebook"
   ]
  },
  {
   "cell_type": "code",
   "execution_count": 2,
   "metadata": {},
   "outputs": [
    {
     "data": {
      "application/vnd.plotly.v1+json": {
       "config": {
        "plotlyServerURL": "https://plot.ly"
       },
       "data": [
        {
         "fill": "none",
         "name": "ISt-LST",
         "r": [
          5.4,
          6.2,
          7.3,
          8.1,
          6.7,
          7.9,
          8.3
         ],
         "theta": [
          "GIST",
          "Konstanz",
          "Miryang",
          "48",
          "96",
          "168",
          "336"
         ],
         "type": "scatterpolar"
        },
        {
         "fill": "none",
         "name": "LSTM",
         "r": [
          4.1,
          5.5,
          6.8,
          7.4,
          5.9,
          6.6,
          7
         ],
         "theta": [
          "GIST",
          "Konstanz",
          "Miryang",
          "48",
          "96",
          "168",
          "336"
         ],
         "type": "scatterpolar"
        },
        {
         "fill": "none",
         "name": "BiLSTM",
         "r": [
          3.9,
          4.8,
          5.6,
          6.3,
          5.2,
          6,
          6.5
         ],
         "theta": [
          "GIST",
          "Konstanz",
          "Miryang",
          "48",
          "96",
          "168",
          "336"
         ],
         "type": "scatterpolar"
        },
        {
         "fill": "none",
         "name": "Informer",
         "r": [
          4.5,
          5.3,
          6.2,
          7,
          6.1,
          6.8,
          7.2
         ],
         "theta": [
          "GIST",
          "Konstanz",
          "Miryang",
          "48",
          "96",
          "168",
          "336"
         ],
         "type": "scatterpolar"
        },
        {
         "fill": "none",
         "name": "Autoformer",
         "r": [
          5,
          6,
          6.9,
          7.8,
          6.5,
          7.3,
          7.7
         ],
         "theta": [
          "GIST",
          "Konstanz",
          "Miryang",
          "48",
          "96",
          "168",
          "336"
         ],
         "type": "scatterpolar"
        },
        {
         "fill": "none",
         "name": "Stack-Ensemble",
         "r": [
          4.8,
          5.6,
          6.5,
          7.2,
          6.3,
          7,
          7.5
         ],
         "theta": [
          "GIST",
          "Konstanz",
          "Miryang",
          "48",
          "96",
          "168",
          "336"
         ],
         "type": "scatterpolar"
        }
       ],
       "layout": {
        "polar": {
         "radialaxis": {
          "range": [
           0,
           10
          ],
          "visible": true
         }
        },
        "showlegend": true,
        "template": {
         "data": {
          "bar": [
           {
            "error_x": {
             "color": "#2a3f5f"
            },
            "error_y": {
             "color": "#2a3f5f"
            },
            "marker": {
             "line": {
              "color": "#E5ECF6",
              "width": 0.5
             },
             "pattern": {
              "fillmode": "overlay",
              "size": 10,
              "solidity": 0.2
             }
            },
            "type": "bar"
           }
          ],
          "barpolar": [
           {
            "marker": {
             "line": {
              "color": "#E5ECF6",
              "width": 0.5
             },
             "pattern": {
              "fillmode": "overlay",
              "size": 10,
              "solidity": 0.2
             }
            },
            "type": "barpolar"
           }
          ],
          "carpet": [
           {
            "aaxis": {
             "endlinecolor": "#2a3f5f",
             "gridcolor": "white",
             "linecolor": "white",
             "minorgridcolor": "white",
             "startlinecolor": "#2a3f5f"
            },
            "baxis": {
             "endlinecolor": "#2a3f5f",
             "gridcolor": "white",
             "linecolor": "white",
             "minorgridcolor": "white",
             "startlinecolor": "#2a3f5f"
            },
            "type": "carpet"
           }
          ],
          "choropleth": [
           {
            "colorbar": {
             "outlinewidth": 0,
             "ticks": ""
            },
            "type": "choropleth"
           }
          ],
          "contour": [
           {
            "colorbar": {
             "outlinewidth": 0,
             "ticks": ""
            },
            "colorscale": [
             [
              0,
              "#0d0887"
             ],
             [
              0.1111111111111111,
              "#46039f"
             ],
             [
              0.2222222222222222,
              "#7201a8"
             ],
             [
              0.3333333333333333,
              "#9c179e"
             ],
             [
              0.4444444444444444,
              "#bd3786"
             ],
             [
              0.5555555555555556,
              "#d8576b"
             ],
             [
              0.6666666666666666,
              "#ed7953"
             ],
             [
              0.7777777777777778,
              "#fb9f3a"
             ],
             [
              0.8888888888888888,
              "#fdca26"
             ],
             [
              1,
              "#f0f921"
             ]
            ],
            "type": "contour"
           }
          ],
          "contourcarpet": [
           {
            "colorbar": {
             "outlinewidth": 0,
             "ticks": ""
            },
            "type": "contourcarpet"
           }
          ],
          "heatmap": [
           {
            "colorbar": {
             "outlinewidth": 0,
             "ticks": ""
            },
            "colorscale": [
             [
              0,
              "#0d0887"
             ],
             [
              0.1111111111111111,
              "#46039f"
             ],
             [
              0.2222222222222222,
              "#7201a8"
             ],
             [
              0.3333333333333333,
              "#9c179e"
             ],
             [
              0.4444444444444444,
              "#bd3786"
             ],
             [
              0.5555555555555556,
              "#d8576b"
             ],
             [
              0.6666666666666666,
              "#ed7953"
             ],
             [
              0.7777777777777778,
              "#fb9f3a"
             ],
             [
              0.8888888888888888,
              "#fdca26"
             ],
             [
              1,
              "#f0f921"
             ]
            ],
            "type": "heatmap"
           }
          ],
          "heatmapgl": [
           {
            "colorbar": {
             "outlinewidth": 0,
             "ticks": ""
            },
            "colorscale": [
             [
              0,
              "#0d0887"
             ],
             [
              0.1111111111111111,
              "#46039f"
             ],
             [
              0.2222222222222222,
              "#7201a8"
             ],
             [
              0.3333333333333333,
              "#9c179e"
             ],
             [
              0.4444444444444444,
              "#bd3786"
             ],
             [
              0.5555555555555556,
              "#d8576b"
             ],
             [
              0.6666666666666666,
              "#ed7953"
             ],
             [
              0.7777777777777778,
              "#fb9f3a"
             ],
             [
              0.8888888888888888,
              "#fdca26"
             ],
             [
              1,
              "#f0f921"
             ]
            ],
            "type": "heatmapgl"
           }
          ],
          "histogram": [
           {
            "marker": {
             "pattern": {
              "fillmode": "overlay",
              "size": 10,
              "solidity": 0.2
             }
            },
            "type": "histogram"
           }
          ],
          "histogram2d": [
           {
            "colorbar": {
             "outlinewidth": 0,
             "ticks": ""
            },
            "colorscale": [
             [
              0,
              "#0d0887"
             ],
             [
              0.1111111111111111,
              "#46039f"
             ],
             [
              0.2222222222222222,
              "#7201a8"
             ],
             [
              0.3333333333333333,
              "#9c179e"
             ],
             [
              0.4444444444444444,
              "#bd3786"
             ],
             [
              0.5555555555555556,
              "#d8576b"
             ],
             [
              0.6666666666666666,
              "#ed7953"
             ],
             [
              0.7777777777777778,
              "#fb9f3a"
             ],
             [
              0.8888888888888888,
              "#fdca26"
             ],
             [
              1,
              "#f0f921"
             ]
            ],
            "type": "histogram2d"
           }
          ],
          "histogram2dcontour": [
           {
            "colorbar": {
             "outlinewidth": 0,
             "ticks": ""
            },
            "colorscale": [
             [
              0,
              "#0d0887"
             ],
             [
              0.1111111111111111,
              "#46039f"
             ],
             [
              0.2222222222222222,
              "#7201a8"
             ],
             [
              0.3333333333333333,
              "#9c179e"
             ],
             [
              0.4444444444444444,
              "#bd3786"
             ],
             [
              0.5555555555555556,
              "#d8576b"
             ],
             [
              0.6666666666666666,
              "#ed7953"
             ],
             [
              0.7777777777777778,
              "#fb9f3a"
             ],
             [
              0.8888888888888888,
              "#fdca26"
             ],
             [
              1,
              "#f0f921"
             ]
            ],
            "type": "histogram2dcontour"
           }
          ],
          "mesh3d": [
           {
            "colorbar": {
             "outlinewidth": 0,
             "ticks": ""
            },
            "type": "mesh3d"
           }
          ],
          "parcoords": [
           {
            "line": {
             "colorbar": {
              "outlinewidth": 0,
              "ticks": ""
             }
            },
            "type": "parcoords"
           }
          ],
          "pie": [
           {
            "automargin": true,
            "type": "pie"
           }
          ],
          "scatter": [
           {
            "fillpattern": {
             "fillmode": "overlay",
             "size": 10,
             "solidity": 0.2
            },
            "type": "scatter"
           }
          ],
          "scatter3d": [
           {
            "line": {
             "colorbar": {
              "outlinewidth": 0,
              "ticks": ""
             }
            },
            "marker": {
             "colorbar": {
              "outlinewidth": 0,
              "ticks": ""
             }
            },
            "type": "scatter3d"
           }
          ],
          "scattercarpet": [
           {
            "marker": {
             "colorbar": {
              "outlinewidth": 0,
              "ticks": ""
             }
            },
            "type": "scattercarpet"
           }
          ],
          "scattergeo": [
           {
            "marker": {
             "colorbar": {
              "outlinewidth": 0,
              "ticks": ""
             }
            },
            "type": "scattergeo"
           }
          ],
          "scattergl": [
           {
            "marker": {
             "colorbar": {
              "outlinewidth": 0,
              "ticks": ""
             }
            },
            "type": "scattergl"
           }
          ],
          "scattermapbox": [
           {
            "marker": {
             "colorbar": {
              "outlinewidth": 0,
              "ticks": ""
             }
            },
            "type": "scattermapbox"
           }
          ],
          "scatterpolar": [
           {
            "marker": {
             "colorbar": {
              "outlinewidth": 0,
              "ticks": ""
             }
            },
            "type": "scatterpolar"
           }
          ],
          "scatterpolargl": [
           {
            "marker": {
             "colorbar": {
              "outlinewidth": 0,
              "ticks": ""
             }
            },
            "type": "scatterpolargl"
           }
          ],
          "scatterternary": [
           {
            "marker": {
             "colorbar": {
              "outlinewidth": 0,
              "ticks": ""
             }
            },
            "type": "scatterternary"
           }
          ],
          "surface": [
           {
            "colorbar": {
             "outlinewidth": 0,
             "ticks": ""
            },
            "colorscale": [
             [
              0,
              "#0d0887"
             ],
             [
              0.1111111111111111,
              "#46039f"
             ],
             [
              0.2222222222222222,
              "#7201a8"
             ],
             [
              0.3333333333333333,
              "#9c179e"
             ],
             [
              0.4444444444444444,
              "#bd3786"
             ],
             [
              0.5555555555555556,
              "#d8576b"
             ],
             [
              0.6666666666666666,
              "#ed7953"
             ],
             [
              0.7777777777777778,
              "#fb9f3a"
             ],
             [
              0.8888888888888888,
              "#fdca26"
             ],
             [
              1,
              "#f0f921"
             ]
            ],
            "type": "surface"
           }
          ],
          "table": [
           {
            "cells": {
             "fill": {
              "color": "#EBF0F8"
             },
             "line": {
              "color": "white"
             }
            },
            "header": {
             "fill": {
              "color": "#C8D4E3"
             },
             "line": {
              "color": "white"
             }
            },
            "type": "table"
           }
          ]
         },
         "layout": {
          "annotationdefaults": {
           "arrowcolor": "#2a3f5f",
           "arrowhead": 0,
           "arrowwidth": 1
          },
          "autotypenumbers": "strict",
          "coloraxis": {
           "colorbar": {
            "outlinewidth": 0,
            "ticks": ""
           }
          },
          "colorscale": {
           "diverging": [
            [
             0,
             "#8e0152"
            ],
            [
             0.1,
             "#c51b7d"
            ],
            [
             0.2,
             "#de77ae"
            ],
            [
             0.3,
             "#f1b6da"
            ],
            [
             0.4,
             "#fde0ef"
            ],
            [
             0.5,
             "#f7f7f7"
            ],
            [
             0.6,
             "#e6f5d0"
            ],
            [
             0.7,
             "#b8e186"
            ],
            [
             0.8,
             "#7fbc41"
            ],
            [
             0.9,
             "#4d9221"
            ],
            [
             1,
             "#276419"
            ]
           ],
           "sequential": [
            [
             0,
             "#0d0887"
            ],
            [
             0.1111111111111111,
             "#46039f"
            ],
            [
             0.2222222222222222,
             "#7201a8"
            ],
            [
             0.3333333333333333,
             "#9c179e"
            ],
            [
             0.4444444444444444,
             "#bd3786"
            ],
            [
             0.5555555555555556,
             "#d8576b"
            ],
            [
             0.6666666666666666,
             "#ed7953"
            ],
            [
             0.7777777777777778,
             "#fb9f3a"
            ],
            [
             0.8888888888888888,
             "#fdca26"
            ],
            [
             1,
             "#f0f921"
            ]
           ],
           "sequentialminus": [
            [
             0,
             "#0d0887"
            ],
            [
             0.1111111111111111,
             "#46039f"
            ],
            [
             0.2222222222222222,
             "#7201a8"
            ],
            [
             0.3333333333333333,
             "#9c179e"
            ],
            [
             0.4444444444444444,
             "#bd3786"
            ],
            [
             0.5555555555555556,
             "#d8576b"
            ],
            [
             0.6666666666666666,
             "#ed7953"
            ],
            [
             0.7777777777777778,
             "#fb9f3a"
            ],
            [
             0.8888888888888888,
             "#fdca26"
            ],
            [
             1,
             "#f0f921"
            ]
           ]
          },
          "colorway": [
           "#636efa",
           "#EF553B",
           "#00cc96",
           "#ab63fa",
           "#FFA15A",
           "#19d3f3",
           "#FF6692",
           "#B6E880",
           "#FF97FF",
           "#FECB52"
          ],
          "font": {
           "color": "#2a3f5f"
          },
          "geo": {
           "bgcolor": "white",
           "lakecolor": "white",
           "landcolor": "#E5ECF6",
           "showlakes": true,
           "showland": true,
           "subunitcolor": "white"
          },
          "hoverlabel": {
           "align": "left"
          },
          "hovermode": "closest",
          "mapbox": {
           "style": "light"
          },
          "paper_bgcolor": "white",
          "plot_bgcolor": "#E5ECF6",
          "polar": {
           "angularaxis": {
            "gridcolor": "white",
            "linecolor": "white",
            "ticks": ""
           },
           "bgcolor": "#E5ECF6",
           "radialaxis": {
            "gridcolor": "white",
            "linecolor": "white",
            "ticks": ""
           }
          },
          "scene": {
           "xaxis": {
            "backgroundcolor": "#E5ECF6",
            "gridcolor": "white",
            "gridwidth": 2,
            "linecolor": "white",
            "showbackground": true,
            "ticks": "",
            "zerolinecolor": "white"
           },
           "yaxis": {
            "backgroundcolor": "#E5ECF6",
            "gridcolor": "white",
            "gridwidth": 2,
            "linecolor": "white",
            "showbackground": true,
            "ticks": "",
            "zerolinecolor": "white"
           },
           "zaxis": {
            "backgroundcolor": "#E5ECF6",
            "gridcolor": "white",
            "gridwidth": 2,
            "linecolor": "white",
            "showbackground": true,
            "ticks": "",
            "zerolinecolor": "white"
           }
          },
          "shapedefaults": {
           "line": {
            "color": "#2a3f5f"
           }
          },
          "ternary": {
           "aaxis": {
            "gridcolor": "white",
            "linecolor": "white",
            "ticks": ""
           },
           "baxis": {
            "gridcolor": "white",
            "linecolor": "white",
            "ticks": ""
           },
           "bgcolor": "#E5ECF6",
           "caxis": {
            "gridcolor": "white",
            "linecolor": "white",
            "ticks": ""
           }
          },
          "title": {
           "x": 0.05
          },
          "xaxis": {
           "automargin": true,
           "gridcolor": "white",
           "linecolor": "white",
           "ticks": "",
           "title": {
            "standoff": 15
           },
           "zerolinecolor": "white",
           "zerolinewidth": 2
          },
          "yaxis": {
           "automargin": true,
           "gridcolor": "white",
           "linecolor": "white",
           "ticks": "",
           "title": {
            "standoff": 15
           },
           "zerolinecolor": "white",
           "zerolinewidth": 2
          }
         }
        },
        "title": {
         "text": "Radar Chart Example (Direct Values)",
         "x": 0.5
        }
       }
      }
     },
     "metadata": {},
     "output_type": "display_data"
    }
   ],
   "source": [
    "import numpy as np\n",
    "import plotly.graph_objects as go\n",
    "import pandas as pd\n",
    "\n",
    "# Categories (radial axes labels)\n",
    "categories = ['GIST', 'Konstanz', 'Miryang', '48', '96', '168', '336']\n",
    "\n",
    "# Directly assigning values for each model\n",
    "values = {\n",
    "    'ISt-LST': [5.4, 6.2, 7.3, 8.1, 6.7, 7.9, 8.3],\n",
    "    'LSTM': [4.1, 5.5, 6.8, 7.4, 5.9, 6.6, 7.0],\n",
    "    'BiLSTM': [3.9, 4.8, 5.6, 6.3, 5.2, 6.0, 6.5],\n",
    "    'Informer': [4.5, 5.3, 6.2, 7.0, 6.1, 6.8, 7.2],\n",
    "    'Autoformer': [5.0, 6.0, 6.9, 7.8, 6.5, 7.3, 7.7],\n",
    "    'Stack-Ensemble': [4.8, 5.6, 6.5, 7.2, 6.3, 7.0, 7.5]\n",
    "}\n",
    "\n",
    "# Create a DataFrame\n",
    "values['categories'] = categories\n",
    "df = pd.DataFrame(values)\n",
    "\n",
    "# Initialize the radar chart\n",
    "fig = go.Figure()\n",
    "\n",
    "# Add each model's values to the radar chart\n",
    "for model in values.keys():\n",
    "    if model != 'categories':  # Skip the categories column\n",
    "        fig.add_trace(go.Scatterpolar(\n",
    "            r=df[model],\n",
    "            theta=df['categories'],\n",
    "            fill='none',\n",
    "            name=model\n",
    "        ))\n",
    "\n",
    "# Update layout to match radar chart style\n",
    "fig.update_layout(\n",
    "    polar=dict(\n",
    "        radialaxis=dict(visible=True, range=[0, 10])\n",
    "    ),\n",
    "    showlegend=True,\n",
    "    title=\"Radar Chart Example (Direct Values)\",\n",
    "    title_x=0.5\n",
    ")\n",
    "\n",
    "# Show the plot\n",
    "fig.show()\n"
   ]
  },
  {
   "cell_type": "code",
   "execution_count": 3,
   "metadata": {},
   "outputs": [
    {
     "data": {
      "application/vnd.plotly.v1+json": {
       "config": {
        "plotlyServerURL": "https://plot.ly"
       },
       "data": [
        {
         "marker": {
          "color": "blue"
         },
         "name": "Proposed - Task A",
         "type": "bar",
         "width": 0.3,
         "x": [
          "100d",
          "150d",
          "200d"
         ],
         "xaxis": "x",
         "y": [
          0.02,
          0.04,
          0.06
         ],
         "yaxis": "y"
        },
        {
         "marker": {
          "color": "pink"
         },
         "name": "DANN - Task A",
         "type": "bar",
         "width": 0.3,
         "x": [
          "100d",
          "150d",
          "200d"
         ],
         "xaxis": "x",
         "y": [
          0.03,
          0.05,
          0.07
         ],
         "yaxis": "y"
        },
        {
         "marker": {
          "color": "lightblue"
         },
         "name": "FT-LSTM - Task A",
         "type": "bar",
         "width": 0.3,
         "x": [
          "100d",
          "150d",
          "200d"
         ],
         "xaxis": "x",
         "y": [
          0.04,
          0.06,
          0.08
         ],
         "yaxis": "y"
        },
        {
         "marker": {
          "color": "blue"
         },
         "name": "Proposed - Task B",
         "type": "bar",
         "width": 0.3,
         "x": [
          "100d",
          "150d",
          "200d"
         ],
         "xaxis": "x2",
         "y": [
          0.03,
          0.05,
          0.07
         ],
         "yaxis": "y2"
        },
        {
         "marker": {
          "color": "pink"
         },
         "name": "DANN - Task B",
         "type": "bar",
         "width": 0.3,
         "x": [
          "100d",
          "150d",
          "200d"
         ],
         "xaxis": "x2",
         "y": [
          0.04,
          0.06,
          0.08
         ],
         "yaxis": "y2"
        },
        {
         "marker": {
          "color": "lightblue"
         },
         "name": "FT-LSTM - Task B",
         "type": "bar",
         "width": 0.3,
         "x": [
          "100d",
          "150d",
          "200d"
         ],
         "xaxis": "x2",
         "y": [
          0.05,
          0.07,
          0.09
         ],
         "yaxis": "y2"
        },
        {
         "marker": {
          "color": "blue"
         },
         "name": "Proposed - Task C",
         "type": "bar",
         "width": 0.3,
         "x": [
          "100d",
          "150d",
          "200d"
         ],
         "xaxis": "x3",
         "y": [
          0.01,
          0.03,
          0.05
         ],
         "yaxis": "y3"
        },
        {
         "marker": {
          "color": "pink"
         },
         "name": "DANN - Task C",
         "type": "bar",
         "width": 0.3,
         "x": [
          "100d",
          "150d",
          "200d"
         ],
         "xaxis": "x3",
         "y": [
          0.02,
          0.04,
          0.06
         ],
         "yaxis": "y3"
        },
        {
         "marker": {
          "color": "lightblue"
         },
         "name": "FT-LSTM - Task C",
         "type": "bar",
         "width": 0.3,
         "x": [
          "100d",
          "150d",
          "200d"
         ],
         "xaxis": "x3",
         "y": [
          0.03,
          0.05,
          0.07
         ],
         "yaxis": "y3"
        }
       ],
       "layout": {
        "barmode": "group",
        "height": 1500,
        "legend": {
         "orientation": "h",
         "y": -0.1
        },
        "margin": {
         "b": 50,
         "l": 50,
         "r": 50,
         "t": 50
        },
        "template": {
         "data": {
          "bar": [
           {
            "error_x": {
             "color": "#2a3f5f"
            },
            "error_y": {
             "color": "#2a3f5f"
            },
            "marker": {
             "line": {
              "color": "#E5ECF6",
              "width": 0.5
             },
             "pattern": {
              "fillmode": "overlay",
              "size": 10,
              "solidity": 0.2
             }
            },
            "type": "bar"
           }
          ],
          "barpolar": [
           {
            "marker": {
             "line": {
              "color": "#E5ECF6",
              "width": 0.5
             },
             "pattern": {
              "fillmode": "overlay",
              "size": 10,
              "solidity": 0.2
             }
            },
            "type": "barpolar"
           }
          ],
          "carpet": [
           {
            "aaxis": {
             "endlinecolor": "#2a3f5f",
             "gridcolor": "white",
             "linecolor": "white",
             "minorgridcolor": "white",
             "startlinecolor": "#2a3f5f"
            },
            "baxis": {
             "endlinecolor": "#2a3f5f",
             "gridcolor": "white",
             "linecolor": "white",
             "minorgridcolor": "white",
             "startlinecolor": "#2a3f5f"
            },
            "type": "carpet"
           }
          ],
          "choropleth": [
           {
            "colorbar": {
             "outlinewidth": 0,
             "ticks": ""
            },
            "type": "choropleth"
           }
          ],
          "contour": [
           {
            "colorbar": {
             "outlinewidth": 0,
             "ticks": ""
            },
            "colorscale": [
             [
              0,
              "#0d0887"
             ],
             [
              0.1111111111111111,
              "#46039f"
             ],
             [
              0.2222222222222222,
              "#7201a8"
             ],
             [
              0.3333333333333333,
              "#9c179e"
             ],
             [
              0.4444444444444444,
              "#bd3786"
             ],
             [
              0.5555555555555556,
              "#d8576b"
             ],
             [
              0.6666666666666666,
              "#ed7953"
             ],
             [
              0.7777777777777778,
              "#fb9f3a"
             ],
             [
              0.8888888888888888,
              "#fdca26"
             ],
             [
              1,
              "#f0f921"
             ]
            ],
            "type": "contour"
           }
          ],
          "contourcarpet": [
           {
            "colorbar": {
             "outlinewidth": 0,
             "ticks": ""
            },
            "type": "contourcarpet"
           }
          ],
          "heatmap": [
           {
            "colorbar": {
             "outlinewidth": 0,
             "ticks": ""
            },
            "colorscale": [
             [
              0,
              "#0d0887"
             ],
             [
              0.1111111111111111,
              "#46039f"
             ],
             [
              0.2222222222222222,
              "#7201a8"
             ],
             [
              0.3333333333333333,
              "#9c179e"
             ],
             [
              0.4444444444444444,
              "#bd3786"
             ],
             [
              0.5555555555555556,
              "#d8576b"
             ],
             [
              0.6666666666666666,
              "#ed7953"
             ],
             [
              0.7777777777777778,
              "#fb9f3a"
             ],
             [
              0.8888888888888888,
              "#fdca26"
             ],
             [
              1,
              "#f0f921"
             ]
            ],
            "type": "heatmap"
           }
          ],
          "heatmapgl": [
           {
            "colorbar": {
             "outlinewidth": 0,
             "ticks": ""
            },
            "colorscale": [
             [
              0,
              "#0d0887"
             ],
             [
              0.1111111111111111,
              "#46039f"
             ],
             [
              0.2222222222222222,
              "#7201a8"
             ],
             [
              0.3333333333333333,
              "#9c179e"
             ],
             [
              0.4444444444444444,
              "#bd3786"
             ],
             [
              0.5555555555555556,
              "#d8576b"
             ],
             [
              0.6666666666666666,
              "#ed7953"
             ],
             [
              0.7777777777777778,
              "#fb9f3a"
             ],
             [
              0.8888888888888888,
              "#fdca26"
             ],
             [
              1,
              "#f0f921"
             ]
            ],
            "type": "heatmapgl"
           }
          ],
          "histogram": [
           {
            "marker": {
             "pattern": {
              "fillmode": "overlay",
              "size": 10,
              "solidity": 0.2
             }
            },
            "type": "histogram"
           }
          ],
          "histogram2d": [
           {
            "colorbar": {
             "outlinewidth": 0,
             "ticks": ""
            },
            "colorscale": [
             [
              0,
              "#0d0887"
             ],
             [
              0.1111111111111111,
              "#46039f"
             ],
             [
              0.2222222222222222,
              "#7201a8"
             ],
             [
              0.3333333333333333,
              "#9c179e"
             ],
             [
              0.4444444444444444,
              "#bd3786"
             ],
             [
              0.5555555555555556,
              "#d8576b"
             ],
             [
              0.6666666666666666,
              "#ed7953"
             ],
             [
              0.7777777777777778,
              "#fb9f3a"
             ],
             [
              0.8888888888888888,
              "#fdca26"
             ],
             [
              1,
              "#f0f921"
             ]
            ],
            "type": "histogram2d"
           }
          ],
          "histogram2dcontour": [
           {
            "colorbar": {
             "outlinewidth": 0,
             "ticks": ""
            },
            "colorscale": [
             [
              0,
              "#0d0887"
             ],
             [
              0.1111111111111111,
              "#46039f"
             ],
             [
              0.2222222222222222,
              "#7201a8"
             ],
             [
              0.3333333333333333,
              "#9c179e"
             ],
             [
              0.4444444444444444,
              "#bd3786"
             ],
             [
              0.5555555555555556,
              "#d8576b"
             ],
             [
              0.6666666666666666,
              "#ed7953"
             ],
             [
              0.7777777777777778,
              "#fb9f3a"
             ],
             [
              0.8888888888888888,
              "#fdca26"
             ],
             [
              1,
              "#f0f921"
             ]
            ],
            "type": "histogram2dcontour"
           }
          ],
          "mesh3d": [
           {
            "colorbar": {
             "outlinewidth": 0,
             "ticks": ""
            },
            "type": "mesh3d"
           }
          ],
          "parcoords": [
           {
            "line": {
             "colorbar": {
              "outlinewidth": 0,
              "ticks": ""
             }
            },
            "type": "parcoords"
           }
          ],
          "pie": [
           {
            "automargin": true,
            "type": "pie"
           }
          ],
          "scatter": [
           {
            "fillpattern": {
             "fillmode": "overlay",
             "size": 10,
             "solidity": 0.2
            },
            "type": "scatter"
           }
          ],
          "scatter3d": [
           {
            "line": {
             "colorbar": {
              "outlinewidth": 0,
              "ticks": ""
             }
            },
            "marker": {
             "colorbar": {
              "outlinewidth": 0,
              "ticks": ""
             }
            },
            "type": "scatter3d"
           }
          ],
          "scattercarpet": [
           {
            "marker": {
             "colorbar": {
              "outlinewidth": 0,
              "ticks": ""
             }
            },
            "type": "scattercarpet"
           }
          ],
          "scattergeo": [
           {
            "marker": {
             "colorbar": {
              "outlinewidth": 0,
              "ticks": ""
             }
            },
            "type": "scattergeo"
           }
          ],
          "scattergl": [
           {
            "marker": {
             "colorbar": {
              "outlinewidth": 0,
              "ticks": ""
             }
            },
            "type": "scattergl"
           }
          ],
          "scattermapbox": [
           {
            "marker": {
             "colorbar": {
              "outlinewidth": 0,
              "ticks": ""
             }
            },
            "type": "scattermapbox"
           }
          ],
          "scatterpolar": [
           {
            "marker": {
             "colorbar": {
              "outlinewidth": 0,
              "ticks": ""
             }
            },
            "type": "scatterpolar"
           }
          ],
          "scatterpolargl": [
           {
            "marker": {
             "colorbar": {
              "outlinewidth": 0,
              "ticks": ""
             }
            },
            "type": "scatterpolargl"
           }
          ],
          "scatterternary": [
           {
            "marker": {
             "colorbar": {
              "outlinewidth": 0,
              "ticks": ""
             }
            },
            "type": "scatterternary"
           }
          ],
          "surface": [
           {
            "colorbar": {
             "outlinewidth": 0,
             "ticks": ""
            },
            "colorscale": [
             [
              0,
              "#0d0887"
             ],
             [
              0.1111111111111111,
              "#46039f"
             ],
             [
              0.2222222222222222,
              "#7201a8"
             ],
             [
              0.3333333333333333,
              "#9c179e"
             ],
             [
              0.4444444444444444,
              "#bd3786"
             ],
             [
              0.5555555555555556,
              "#d8576b"
             ],
             [
              0.6666666666666666,
              "#ed7953"
             ],
             [
              0.7777777777777778,
              "#fb9f3a"
             ],
             [
              0.8888888888888888,
              "#fdca26"
             ],
             [
              1,
              "#f0f921"
             ]
            ],
            "type": "surface"
           }
          ],
          "table": [
           {
            "cells": {
             "fill": {
              "color": "#EBF0F8"
             },
             "line": {
              "color": "white"
             }
            },
            "header": {
             "fill": {
              "color": "#C8D4E3"
             },
             "line": {
              "color": "white"
             }
            },
            "type": "table"
           }
          ]
         },
         "layout": {
          "annotationdefaults": {
           "arrowcolor": "#2a3f5f",
           "arrowhead": 0,
           "arrowwidth": 1
          },
          "autotypenumbers": "strict",
          "coloraxis": {
           "colorbar": {
            "outlinewidth": 0,
            "ticks": ""
           }
          },
          "colorscale": {
           "diverging": [
            [
             0,
             "#8e0152"
            ],
            [
             0.1,
             "#c51b7d"
            ],
            [
             0.2,
             "#de77ae"
            ],
            [
             0.3,
             "#f1b6da"
            ],
            [
             0.4,
             "#fde0ef"
            ],
            [
             0.5,
             "#f7f7f7"
            ],
            [
             0.6,
             "#e6f5d0"
            ],
            [
             0.7,
             "#b8e186"
            ],
            [
             0.8,
             "#7fbc41"
            ],
            [
             0.9,
             "#4d9221"
            ],
            [
             1,
             "#276419"
            ]
           ],
           "sequential": [
            [
             0,
             "#0d0887"
            ],
            [
             0.1111111111111111,
             "#46039f"
            ],
            [
             0.2222222222222222,
             "#7201a8"
            ],
            [
             0.3333333333333333,
             "#9c179e"
            ],
            [
             0.4444444444444444,
             "#bd3786"
            ],
            [
             0.5555555555555556,
             "#d8576b"
            ],
            [
             0.6666666666666666,
             "#ed7953"
            ],
            [
             0.7777777777777778,
             "#fb9f3a"
            ],
            [
             0.8888888888888888,
             "#fdca26"
            ],
            [
             1,
             "#f0f921"
            ]
           ],
           "sequentialminus": [
            [
             0,
             "#0d0887"
            ],
            [
             0.1111111111111111,
             "#46039f"
            ],
            [
             0.2222222222222222,
             "#7201a8"
            ],
            [
             0.3333333333333333,
             "#9c179e"
            ],
            [
             0.4444444444444444,
             "#bd3786"
            ],
            [
             0.5555555555555556,
             "#d8576b"
            ],
            [
             0.6666666666666666,
             "#ed7953"
            ],
            [
             0.7777777777777778,
             "#fb9f3a"
            ],
            [
             0.8888888888888888,
             "#fdca26"
            ],
            [
             1,
             "#f0f921"
            ]
           ]
          },
          "colorway": [
           "#636efa",
           "#EF553B",
           "#00cc96",
           "#ab63fa",
           "#FFA15A",
           "#19d3f3",
           "#FF6692",
           "#B6E880",
           "#FF97FF",
           "#FECB52"
          ],
          "font": {
           "color": "#2a3f5f"
          },
          "geo": {
           "bgcolor": "white",
           "lakecolor": "white",
           "landcolor": "#E5ECF6",
           "showlakes": true,
           "showland": true,
           "subunitcolor": "white"
          },
          "hoverlabel": {
           "align": "left"
          },
          "hovermode": "closest",
          "mapbox": {
           "style": "light"
          },
          "paper_bgcolor": "white",
          "plot_bgcolor": "#E5ECF6",
          "polar": {
           "angularaxis": {
            "gridcolor": "white",
            "linecolor": "white",
            "ticks": ""
           },
           "bgcolor": "#E5ECF6",
           "radialaxis": {
            "gridcolor": "white",
            "linecolor": "white",
            "ticks": ""
           }
          },
          "scene": {
           "xaxis": {
            "backgroundcolor": "#E5ECF6",
            "gridcolor": "white",
            "gridwidth": 2,
            "linecolor": "white",
            "showbackground": true,
            "ticks": "",
            "zerolinecolor": "white"
           },
           "yaxis": {
            "backgroundcolor": "#E5ECF6",
            "gridcolor": "white",
            "gridwidth": 2,
            "linecolor": "white",
            "showbackground": true,
            "ticks": "",
            "zerolinecolor": "white"
           },
           "zaxis": {
            "backgroundcolor": "#E5ECF6",
            "gridcolor": "white",
            "gridwidth": 2,
            "linecolor": "white",
            "showbackground": true,
            "ticks": "",
            "zerolinecolor": "white"
           }
          },
          "shapedefaults": {
           "line": {
            "color": "#2a3f5f"
           }
          },
          "ternary": {
           "aaxis": {
            "gridcolor": "white",
            "linecolor": "white",
            "ticks": ""
           },
           "baxis": {
            "gridcolor": "white",
            "linecolor": "white",
            "ticks": ""
           },
           "bgcolor": "#E5ECF6",
           "caxis": {
            "gridcolor": "white",
            "linecolor": "white",
            "ticks": ""
           }
          },
          "title": {
           "x": 0.05
          },
          "xaxis": {
           "automargin": true,
           "gridcolor": "white",
           "linecolor": "white",
           "ticks": "",
           "title": {
            "standoff": 15
           },
           "zerolinecolor": "white",
           "zerolinewidth": 2
          },
          "yaxis": {
           "automargin": true,
           "gridcolor": "white",
           "linecolor": "white",
           "ticks": "",
           "title": {
            "standoff": 15
           },
           "zerolinecolor": "white",
           "zerolinewidth": 2
          }
         }
        },
        "title": {
         "text": "NMAE with Different Data Volumes",
         "x": 0.5
        },
        "xaxis": {
         "anchor": "y",
         "domain": [
          0,
          1
         ],
         "title": {
          "text": "Amount (days)"
         }
        },
        "xaxis2": {
         "anchor": "y2",
         "domain": [
          0,
          1
         ],
         "title": {
          "text": "Amount (days)"
         }
        },
        "xaxis3": {
         "anchor": "y3",
         "domain": [
          0,
          1
         ],
         "title": {
          "text": "Amount (days)"
         }
        },
        "yaxis": {
         "domain": [
          0.75,
          1
         ],
         "title": {
          "text": "NMAE"
         }
        },
        "yaxis2": {
         "domain": [
          0.4,
          0.65
         ],
         "title": {
          "text": "NMAE"
         }
        },
        "yaxis3": {
         "domain": [
          0.05,
          0.3
         ],
         "title": {
          "text": "NMAE"
         }
        }
       }
      }
     },
     "metadata": {},
     "output_type": "display_data"
    }
   ],
   "source": [
    "import plotly.graph_objects as go\n",
    "import pandas as pd\n",
    "\n",
    "# Define pseudo data for the bar charts\n",
    "categories = ['100d', '150d', '200d']  # Amount (days)\n",
    "\n",
    "data = {\n",
    "    \"Task A\": {\n",
    "        \"Proposed\": [0.02, 0.04, 0.06],\n",
    "        \"DANN\": [0.03, 0.05, 0.07],\n",
    "        \"FT-LSTM\": [0.04, 0.06, 0.08]\n",
    "    },\n",
    "    \"Task B\": {\n",
    "        \"Proposed\": [0.03, 0.05, 0.07],\n",
    "        \"DANN\": [0.04, 0.06, 0.08],\n",
    "        \"FT-LSTM\": [0.05, 0.07, 0.09]\n",
    "    },\n",
    "    \"Task C\": {\n",
    "        \"Proposed\": [0.01, 0.03, 0.05],\n",
    "        \"DANN\": [0.02, 0.04, 0.06],\n",
    "        \"FT-LSTM\": [0.03, 0.05, 0.07]\n",
    "    }\n",
    "}\n",
    "\n",
    "# Initialize the figure\n",
    "fig = go.Figure()\n",
    "\n",
    "# Add traces for each task\n",
    "for i, (task, values) in enumerate(data.items(), start=1):\n",
    "    fig.add_trace(go.Bar(\n",
    "        x=categories,\n",
    "        y=values['Proposed'],\n",
    "        name=f\"Proposed - {task}\",\n",
    "        marker_color='blue',\n",
    "        width=0.3,  # Adjust bar width\n",
    "        xaxis=f'x{i}',\n",
    "        yaxis=f'y{i}'\n",
    "    ))\n",
    "    fig.add_trace(go.Bar(\n",
    "        x=categories,\n",
    "        y=values['DANN'],\n",
    "        name=f\"DANN - {task}\",\n",
    "        marker_color='pink',\n",
    "        width=0.3,  # Adjust bar width\n",
    "        xaxis=f'x{i}',\n",
    "        yaxis=f'y{i}'\n",
    "    ))\n",
    "    fig.add_trace(go.Bar(\n",
    "        x=categories,\n",
    "        y=values['FT-LSTM'],\n",
    "        name=f\"FT-LSTM - {task}\",\n",
    "        marker_color='lightblue',\n",
    "        width=0.3,  # Adjust bar width\n",
    "        xaxis=f'x{i}',\n",
    "        yaxis=f'y{i}'\n",
    "    ))\n",
    "\n",
    "# Update layout for vertical subplots with adjusted spacing\n",
    "fig.update_layout(\n",
    "    title=\"NMAE with Different Data Volumes\",\n",
    "    title_x=0.5,\n",
    "    barmode='group',\n",
    "    xaxis=dict(domain=[0, 1.0], title=\"Amount (days)\", anchor=\"y\"),\n",
    "    yaxis=dict(domain=[0.75, 1.0], title=\"NMAE\"),\n",
    "    xaxis2=dict(domain=[0, 1.0], title=\"Amount (days)\", anchor=\"y2\"),\n",
    "    yaxis2=dict(domain=[0.4, 0.65], title=\"NMAE\"),\n",
    "    xaxis3=dict(domain=[0, 1.0], title=\"Amount (days)\", anchor=\"y3\"),\n",
    "    yaxis3=dict(domain=[0.05, 0.3], title=\"NMAE\"),\n",
    "    legend=dict(orientation=\"h\", y=-0.1),  # Adjust legend position to avoid overlap\n",
    "    margin=dict(t=50, b=50, l=50, r=50),  # Adjust margins for better spacing\n",
    "    height=1500\n",
    ")\n",
    "\n",
    "# Show the plot\n",
    "fig.show()\n"
   ]
  },
  {
   "cell_type": "code",
   "execution_count": 4,
   "metadata": {},
   "outputs": [
    {
     "data": {
      "application/vnd.plotly.v1+json": {
       "config": {
        "plotlyServerURL": "https://plot.ly"
       },
       "data": [
        {
         "legendgroup": "group1",
         "line": {
          "color": "blue"
         },
         "mode": "lines",
         "name": "True",
         "showlegend": true,
         "type": "scatter",
         "x": [
          0,
          1,
          2,
          3,
          4,
          5,
          6,
          7,
          8,
          9,
          10,
          11,
          12,
          13,
          14,
          15,
          16,
          17,
          18,
          19,
          20,
          21,
          22,
          23,
          24,
          25,
          26,
          27,
          28,
          29,
          30,
          31,
          32,
          33,
          34,
          35,
          36,
          37,
          38,
          39,
          40,
          41,
          42,
          43,
          44,
          45
         ],
         "xaxis": "x",
         "y": [
          0.00456672081382349,
          0.007154739419399325,
          0.010982975823580005,
          0.016518974449728906,
          0.024343497941769526,
          0.03514954689872594,
          0.04972712223062073,
          0.06892928440867503,
          0.09361621113771477,
          0.12457623403976348,
          0.16242623700091033,
          0.20749804786553525,
          0.2597219738866798,
          0.3185225777710501,
          0.38274418039592445,
          0.4506234804013228,
          0.5198234728687676,
          0.5875364333334868,
          0.6506546921038766,
          0.7059975220676764,
          0.7505724765752864,
          0.7818418982815826,
          0.7979617845434244,
          0.7979617845434244,
          0.7818418982815826,
          0.7505724765752864,
          0.7059975220676764,
          0.6506546921038766,
          0.5875364333334868,
          0.5198234728687676,
          0.4506234804013228,
          0.38274418039592445,
          0.3185225777710501,
          0.2597219738866798,
          0.20749804786553525,
          0.16242623700091033,
          0.12457623403976348,
          0.09361621113771477,
          0.06892928440867503,
          0.04972712223062073,
          0.03514954689872594,
          0.024343497941769526,
          0.016518974449728906,
          0.010982975823580005,
          0.007154739419399325,
          0.00456672081382349
         ],
         "yaxis": "y"
        },
        {
         "legendgroup": "group2",
         "line": {
          "color": "red"
         },
         "mode": "lines",
         "name": "Proposed",
         "showlegend": true,
         "type": "scatter",
         "x": [
          0,
          1,
          2,
          3,
          4,
          5,
          6,
          7,
          8,
          9,
          10,
          11,
          12,
          13,
          14,
          15,
          16,
          17,
          18,
          19,
          20,
          21,
          22,
          23,
          24,
          25,
          26,
          27,
          28,
          29,
          30,
          31,
          32,
          33,
          34,
          35,
          36,
          37,
          38,
          39,
          40,
          41,
          42,
          43,
          44,
          45
         ],
         "xaxis": "x",
         "y": [
          0.003988380856054883,
          0.08911452025829548,
          0.005688072922118691,
          0.0026812892673460965,
          0.023477244559845793,
          0.03436365745989182,
          0.03354189975142627,
          0.0690624597501817,
          0.11916276958450267,
          0.09562532800809746,
          0.10262606711606276,
          0.19699617088686872,
          0.25115922712882344,
          0.29053764111894015,
          0.3553680987564732,
          0.44912179786176726,
          0.5472979851849805,
          0.6020999790094953,
          0.6628924886495495,
          0.7907840076144789,
          0.777282361585291,
          0.7718148637366825,
          0.7929801399657476,
          0.816638140032533,
          0.7660967447940984,
          0.8038044672627954,
          0.7215118098073522,
          0.6341743753712549,
          0.6157046074869617,
          0.4940661744828374,
          0.41293029083669297,
          0.4090945353293378,
          0.32022232861420186,
          0.2746460081397719,
          0.17343078462572686,
          0.13908175179320265,
          0.12153870374678064,
          0.0803107357990265,
          0.07656479632302544,
          0.06743808441176193,
          0.07826804156480363,
          0.08262388268770977,
          -0.007315558180587586,
          0.07055671553092166,
          -0.01493428528530115,
          0.004765085064562452
         ],
         "yaxis": "y"
        },
        {
         "legendgroup": "group3",
         "line": {
          "color": "pink"
         },
         "mode": "lines",
         "name": "DANN",
         "showlegend": true,
         "type": "scatter",
         "x": [
          0,
          1,
          2,
          3,
          4,
          5,
          6,
          7,
          8,
          9,
          10,
          11,
          12,
          13,
          14,
          15,
          16,
          17,
          18,
          19,
          20,
          21,
          22,
          23,
          24,
          25,
          26,
          27,
          28,
          29,
          30,
          31,
          32,
          33,
          34,
          35,
          36,
          37,
          38,
          39,
          40,
          41,
          42,
          43,
          44,
          45
         ],
         "xaxis": "x",
         "y": [
          0.03978297407896975,
          0.03235253989380645,
          0.0051924988671017665,
          0.023026101152008673,
          0.009782332593276783,
          0.08084279005664104,
          0.02825395086335497,
          0.04566243287257964,
          0.0444702923159453,
          0.14691103703653624,
          0.12388663517700153,
          0.20955116451255015,
          0.32359641073154627,
          0.30068972757080215,
          0.40327388778780465,
          0.37991896665038843,
          0.5000303140729646,
          0.554190436659364,
          0.6118206970784511,
          0.8316412784228793,
          0.7946940616762879,
          0.803465381705218,
          0.7947387360563322,
          0.864365811532763,
          0.8039293827146431,
          0.7329922785746386,
          0.6676314599278217,
          0.6491167581472445,
          0.573692300231761,
          0.4358891918105566,
          0.4548573185775586,
          0.3945623353189496,
          0.36088099904122445,
          0.1575620446436632,
          0.28083145050281877,
          0.15057605631477905,
          0.11648990317976096,
          0.10191203268049345,
          0.004488262840735502,
          0.027766110731410994,
          0.028267577076894472,
          0.025714145839008225,
          -0.04710849801317036,
          -0.04442011536553063,
          0.021887653491788953,
          -0.016691677051550297
         ],
         "yaxis": "y"
        },
        {
         "legendgroup": "group1",
         "line": {
          "color": "blue"
         },
         "mode": "lines",
         "name": "True",
         "showlegend": false,
         "type": "scatter",
         "x": [
          0,
          1,
          2,
          3,
          4,
          5,
          6,
          7,
          8,
          9,
          10,
          11,
          12,
          13,
          14,
          15,
          16,
          17,
          18,
          19,
          20,
          21,
          22,
          23,
          24,
          25,
          26,
          27,
          28,
          29,
          30,
          31,
          32,
          33,
          34,
          35,
          36,
          37,
          38,
          39,
          40,
          41,
          42,
          43,
          44,
          45
         ],
         "xaxis": "x2",
         "y": [
          0.00456672081382349,
          0.007154739419399325,
          0.010982975823580005,
          0.016518974449728906,
          0.024343497941769526,
          0.03514954689872594,
          0.04972712223062073,
          0.06892928440867503,
          0.09361621113771477,
          0.12457623403976348,
          0.16242623700091033,
          0.20749804786553525,
          0.2597219738866798,
          0.3185225777710501,
          0.38274418039592445,
          0.4506234804013228,
          0.5198234728687676,
          0.5875364333334868,
          0.6506546921038766,
          0.7059975220676764,
          0.7505724765752864,
          0.7818418982815826,
          0.7979617845434244,
          0.7979617845434244,
          0.7818418982815826,
          0.7505724765752864,
          0.7059975220676764,
          0.6506546921038766,
          0.5875364333334868,
          0.5198234728687676,
          0.4506234804013228,
          0.38274418039592445,
          0.3185225777710501,
          0.2597219738866798,
          0.20749804786553525,
          0.16242623700091033,
          0.12457623403976348,
          0.09361621113771477,
          0.06892928440867503,
          0.04972712223062073,
          0.03514954689872594,
          0.024343497941769526,
          0.016518974449728906,
          0.010982975823580005,
          0.007154739419399325,
          0.00456672081382349
         ],
         "yaxis": "y2"
        },
        {
         "legendgroup": "group2",
         "line": {
          "color": "red"
         },
         "mode": "lines",
         "name": "Proposed",
         "showlegend": false,
         "type": "scatter",
         "x": [
          0,
          1,
          2,
          3,
          4,
          5,
          6,
          7,
          8,
          9,
          10,
          11,
          12,
          13,
          14,
          15,
          16,
          17,
          18,
          19,
          20,
          21,
          22,
          23,
          24,
          25,
          26,
          27,
          28,
          29,
          30,
          31,
          32,
          33,
          34,
          35,
          36,
          37,
          38,
          39,
          40,
          41,
          42,
          43,
          44,
          45
         ],
         "xaxis": "x2",
         "y": [
          0.014852847146273714,
          0.03272052000320115,
          0.03909627747487043,
          0.04040158072776172,
          -0.012544502247958427,
          -0.018894906417026222,
          0.030955064989592735,
          0.06474456996222619,
          0.14958742540829603,
          0.1309557458048274,
          0.13710876453042278,
          0.23586528188363406,
          0.30354866566203204,
          0.34287388929323204,
          0.36564258659320514,
          0.47352610990860666,
          0.5059551433671785,
          0.5151674393737818,
          0.6316257814459585,
          0.7538724118858917,
          0.7479628188445528,
          0.7812476747677695,
          0.7823201433985232,
          0.7865903227207212,
          0.8421492793521267,
          0.7866896355105305,
          0.7762092157055516,
          0.6532318022698761,
          0.5787720773462496,
          0.5512252779926806,
          0.45612077566746145,
          0.36191579119005685,
          0.3629884906823479,
          0.2914313717282581,
          0.18458656774672993,
          0.21863373942199663,
          0.08550448518910564,
          0.07336827159962012,
          0.047353105965588047,
          0.07557739743635758,
          -0.00028060256543598755,
          0.011979738212475196,
          -0.0009726730344405202,
          0.031173644991863106,
          -0.007105735275677962,
          -0.020206015007710035
         ],
         "yaxis": "y2"
        },
        {
         "legendgroup": "group3",
         "line": {
          "color": "pink"
         },
         "mode": "lines",
         "name": "DANN",
         "showlegend": false,
         "type": "scatter",
         "x": [
          0,
          1,
          2,
          3,
          4,
          5,
          6,
          7,
          8,
          9,
          10,
          11,
          12,
          13,
          14,
          15,
          16,
          17,
          18,
          19,
          20,
          21,
          22,
          23,
          24,
          25,
          26,
          27,
          28,
          29,
          30,
          31,
          32,
          33,
          34,
          35,
          36,
          37,
          38,
          39,
          40,
          41,
          42,
          43,
          44,
          45
         ],
         "xaxis": "x2",
         "y": [
          0.0033038303310571815,
          -0.070342987433089,
          -0.0058008310020145545,
          0.07997177511376474,
          0.1012340094478153,
          0.11903850713422268,
          0.08793312105050283,
          0.0028826313584351115,
          0.09557812999228166,
          0.13926274176407388,
          0.1281270465870615,
          0.18577572207685805,
          0.2868337576028205,
          0.42215973352777153,
          0.4046844433163368,
          0.44011021541968587,
          0.4766511897835223,
          0.5630634460928068,
          0.6674393371991881,
          0.7047865176943592,
          0.782931017954897,
          0.7655537498254359,
          0.5797447257354467,
          0.8005065725290014,
          0.7025143975859751,
          0.7279996213620243,
          0.6282449623722164,
          0.6840597783365542,
          0.5191101832118722,
          0.48759552923497207,
          0.3773765748918289,
          0.36050138863574543,
          0.25291887307985406,
          0.2327552630468135,
          0.2017675815174726,
          0.16214773859769768,
          0.1294315048838525,
          0.09531148676633079,
          0.1301703048654695,
          0.04395716845898327,
          0.08696945148702426,
          -0.03910791126313848,
          0.0448289403237662,
          0.09459325823817098,
          0.07716517773549353,
          -0.02477348418622108
         ],
         "yaxis": "y2"
        },
        {
         "legendgroup": "group1",
         "line": {
          "color": "blue"
         },
         "mode": "lines",
         "name": "True",
         "showlegend": false,
         "type": "scatter",
         "x": [
          0,
          1,
          2,
          3,
          4,
          5,
          6,
          7,
          8,
          9,
          10,
          11,
          12,
          13,
          14,
          15,
          16,
          17,
          18,
          19,
          20,
          21,
          22,
          23,
          24,
          25,
          26,
          27,
          28,
          29,
          30,
          31,
          32,
          33,
          34,
          35,
          36,
          37,
          38,
          39,
          40,
          41,
          42,
          43,
          44,
          45
         ],
         "xaxis": "x3",
         "y": [
          0.00456672081382349,
          0.007154739419399325,
          0.010982975823580005,
          0.016518974449728906,
          0.024343497941769526,
          0.03514954689872594,
          0.04972712223062073,
          0.06892928440867503,
          0.09361621113771477,
          0.12457623403976348,
          0.16242623700091033,
          0.20749804786553525,
          0.2597219738866798,
          0.3185225777710501,
          0.38274418039592445,
          0.4506234804013228,
          0.5198234728687676,
          0.5875364333334868,
          0.6506546921038766,
          0.7059975220676764,
          0.7505724765752864,
          0.7818418982815826,
          0.7979617845434244,
          0.7979617845434244,
          0.7818418982815826,
          0.7505724765752864,
          0.7059975220676764,
          0.6506546921038766,
          0.5875364333334868,
          0.5198234728687676,
          0.4506234804013228,
          0.38274418039592445,
          0.3185225777710501,
          0.2597219738866798,
          0.20749804786553525,
          0.16242623700091033,
          0.12457623403976348,
          0.09361621113771477,
          0.06892928440867503,
          0.04972712223062073,
          0.03514954689872594,
          0.024343497941769526,
          0.016518974449728906,
          0.010982975823580005,
          0.007154739419399325,
          0.00456672081382349
         ],
         "yaxis": "y3"
        },
        {
         "legendgroup": "group2",
         "line": {
          "color": "red"
         },
         "mode": "lines",
         "name": "Proposed",
         "showlegend": false,
         "type": "scatter",
         "x": [
          0,
          1,
          2,
          3,
          4,
          5,
          6,
          7,
          8,
          9,
          10,
          11,
          12,
          13,
          14,
          15,
          16,
          17,
          18,
          19,
          20,
          21,
          22,
          23,
          24,
          25,
          26,
          27,
          28,
          29,
          30,
          31,
          32,
          33,
          34,
          35,
          36,
          37,
          38,
          39,
          40,
          41,
          42,
          43,
          44,
          45
         ],
         "xaxis": "x3",
         "y": [
          -0.010596100824091268,
          -0.014967411485887934,
          0.05871162034540195,
          -0.04295083274626792,
          -0.02675828459285912,
          0.09360358645923884,
          0.0500772491761349,
          0.09802985970193437,
          0.1032528095141074,
          0.1678281487822036,
          0.11426272811727914,
          0.18972290116143972,
          0.2849758074434732,
          0.31666582066619703,
          0.36916162280971404,
          0.4295903282153564,
          0.4959170935286938,
          0.6066802067762267,
          0.6854905498578484,
          0.7278326573302918,
          0.7337527552588227,
          0.8084079786902741,
          0.7766403777750757,
          0.7610561763504363,
          0.7475661703342739,
          0.8234952585251242,
          0.7073980187451864,
          0.6632116689281728,
          0.5913577285395093,
          0.555066010606471,
          0.43832279360834897,
          0.4006325923629366,
          0.26679583130650836,
          0.2950516731810831,
          0.2694341251576314,
          0.14084137670604407,
          0.005115308147155703,
          0.069507527185412,
          0.08097565284026327,
          0.012250539768670812,
          0.06495525921556362,
          -0.005582378493078098,
          0.006010224626592604,
          -0.005774614092447627,
          0.011306028155151991,
          -0.006420252284242347
         ],
         "yaxis": "y3"
        },
        {
         "legendgroup": "group3",
         "line": {
          "color": "pink"
         },
         "mode": "lines",
         "name": "DANN",
         "showlegend": false,
         "type": "scatter",
         "x": [
          0,
          1,
          2,
          3,
          4,
          5,
          6,
          7,
          8,
          9,
          10,
          11,
          12,
          13,
          14,
          15,
          16,
          17,
          18,
          19,
          20,
          21,
          22,
          23,
          24,
          25,
          26,
          27,
          28,
          29,
          30,
          31,
          32,
          33,
          34,
          35,
          36,
          37,
          38,
          39,
          40,
          41,
          42,
          43,
          44,
          45
         ],
         "xaxis": "x3",
         "y": [
          0.06321204359951559,
          0.05770912145220117,
          -0.026167385654973997,
          -0.015239500524874265,
          -0.01028933543554968,
          0.028864510945900895,
          0.006886279955191109,
          0.08330240964269851,
          0.06056953116407244,
          0.1424181514985336,
          0.15948688477941503,
          0.23755037054898276,
          0.2533087496389709,
          0.34174543579572647,
          0.3685328311778153,
          0.49897802323212725,
          0.6429267127856398,
          0.6043084201266556,
          0.5985986706049287,
          0.6626195408735805,
          0.7399746627690951,
          0.7486278436128303,
          0.8055233763022682,
          0.6957664341632188,
          0.7827079102848974,
          0.7413306195782831,
          0.8235478030437665,
          0.7281600510235469,
          0.6123547385071235,
          0.464636451857529,
          0.41940283764076847,
          0.39856987599855215,
          0.24967341238381124,
          0.22265790325985724,
          0.19894415047411504,
          0.1820771572767856,
          0.08154328629245536,
          0.1114862066798862,
          0.0197921940238387,
          0.008635065211208708,
          -0.0015663956709430216,
          0.046737486531909365,
          -0.015218241398977914,
          0.017997680863391843,
          0.04837547234424252,
          0.028721733098699315
         ],
         "yaxis": "y3"
        },
        {
         "legendgroup": "group1",
         "line": {
          "color": "blue"
         },
         "mode": "lines",
         "name": "True",
         "showlegend": false,
         "type": "scatter",
         "x": [
          0,
          1,
          2,
          3,
          4,
          5,
          6,
          7,
          8,
          9,
          10,
          11,
          12,
          13,
          14,
          15,
          16,
          17,
          18,
          19,
          20,
          21,
          22,
          23,
          24,
          25,
          26,
          27,
          28,
          29,
          30,
          31,
          32,
          33,
          34,
          35,
          36,
          37,
          38,
          39,
          40,
          41,
          42,
          43,
          44,
          45
         ],
         "xaxis": "x4",
         "y": [
          0.00456672081382349,
          0.007154739419399325,
          0.010982975823580005,
          0.016518974449728906,
          0.024343497941769526,
          0.03514954689872594,
          0.04972712223062073,
          0.06892928440867503,
          0.09361621113771477,
          0.12457623403976348,
          0.16242623700091033,
          0.20749804786553525,
          0.2597219738866798,
          0.3185225777710501,
          0.38274418039592445,
          0.4506234804013228,
          0.5198234728687676,
          0.5875364333334868,
          0.6506546921038766,
          0.7059975220676764,
          0.7505724765752864,
          0.7818418982815826,
          0.7979617845434244,
          0.7979617845434244,
          0.7818418982815826,
          0.7505724765752864,
          0.7059975220676764,
          0.6506546921038766,
          0.5875364333334868,
          0.5198234728687676,
          0.4506234804013228,
          0.38274418039592445,
          0.3185225777710501,
          0.2597219738866798,
          0.20749804786553525,
          0.16242623700091033,
          0.12457623403976348,
          0.09361621113771477,
          0.06892928440867503,
          0.04972712223062073,
          0.03514954689872594,
          0.024343497941769526,
          0.016518974449728906,
          0.010982975823580005,
          0.007154739419399325,
          0.00456672081382349
         ],
         "yaxis": "y4"
        },
        {
         "legendgroup": "group2",
         "line": {
          "color": "red"
         },
         "mode": "lines",
         "name": "Proposed",
         "showlegend": false,
         "type": "scatter",
         "x": [
          0,
          1,
          2,
          3,
          4,
          5,
          6,
          7,
          8,
          9,
          10,
          11,
          12,
          13,
          14,
          15,
          16,
          17,
          18,
          19,
          20,
          21,
          22,
          23,
          24,
          25,
          26,
          27,
          28,
          29,
          30,
          31,
          32,
          33,
          34,
          35,
          36,
          37,
          38,
          39,
          40,
          41,
          42,
          43,
          44,
          45
         ],
         "xaxis": "x4",
         "y": [
          0.007777989067664746,
          -0.03323487831307823,
          -0.028610097849325656,
          0.061160117720129824,
          0.04811068196664302,
          0.05289197054098271,
          0.030971457067943922,
          0.09547343605670511,
          0.10695253108221225,
          0.10940426057137068,
          0.11811776615070035,
          0.16294715159405682,
          0.25326649111508,
          0.29451501615006487,
          0.4019645098327917,
          0.474024887588225,
          0.4771512943481714,
          0.5711607651648523,
          0.6746034215743455,
          0.7016403902616758,
          0.7586809445625398,
          0.7286923521967328,
          0.7896939632377391,
          0.8298631902921931,
          0.7464043509714522,
          0.731726920166856,
          0.6751902196915285,
          0.6178039894438339,
          0.6124520247055996,
          0.4666036392320706,
          0.48769003234241454,
          0.37370457528290585,
          0.30199382055963836,
          0.256810609269111,
          0.20063587583061687,
          0.1275215093079978,
          0.11993629521687894,
          0.0802606391926032,
          0.11742060823159177,
          0.03271202676434752,
          0.04571080240438802,
          0.032840161203395404,
          0.04029676418224696,
          0.04601184783194065,
          0.04619308001829357,
          0.015660767143599364
         ],
         "yaxis": "y4"
        },
        {
         "legendgroup": "group3",
         "line": {
          "color": "pink"
         },
         "mode": "lines",
         "name": "DANN",
         "showlegend": false,
         "type": "scatter",
         "x": [
          0,
          1,
          2,
          3,
          4,
          5,
          6,
          7,
          8,
          9,
          10,
          11,
          12,
          13,
          14,
          15,
          16,
          17,
          18,
          19,
          20,
          21,
          22,
          23,
          24,
          25,
          26,
          27,
          28,
          29,
          30,
          31,
          32,
          33,
          34,
          35,
          36,
          37,
          38,
          39,
          40,
          41,
          42,
          43,
          44,
          45
         ],
         "xaxis": "x4",
         "y": [
          0.037612323985301586,
          0.002127072044506851,
          -0.04365008638120639,
          0.040349917338800015,
          -0.006552693924669995,
          0.008454266144181183,
          0.12701116263880843,
          0.09546045696442254,
          0.05255200303440098,
          0.10474964605413713,
          0.17524804623625212,
          0.2205095613314987,
          0.2142358098368193,
          0.34275931462520504,
          0.36512111658681595,
          0.3881493821113209,
          0.44384258599135795,
          0.5420139530568121,
          0.6699960954137422,
          0.7568367429084217,
          0.6523140886819903,
          0.8013701100048648,
          0.7946448768596227,
          0.7845262352012009,
          0.7749512086607312,
          0.765212112191012,
          0.6391109860184286,
          0.6250178368858722,
          0.5607337157322791,
          0.5165522988322793,
          0.5188260878469304,
          0.3761138425131961,
          0.395928598343701,
          0.3134586341178998,
          0.23672800156522278,
          0.18632429872500178,
          0.2337183711629207,
          0.05668166005085426,
          0.08577444206755407,
          0.05756161023834811,
          0.0703156207415993,
          0.00707682692283941,
          -0.003057401785532307,
          -0.04103164294117702,
          0.019350782136304753,
          -0.020760885859007715
         ],
         "yaxis": "y4"
        },
        {
         "legendgroup": "group1",
         "line": {
          "color": "blue"
         },
         "mode": "lines",
         "name": "True",
         "showlegend": false,
         "type": "scatter",
         "x": [
          0,
          1,
          2,
          3,
          4,
          5,
          6,
          7,
          8,
          9,
          10,
          11,
          12,
          13,
          14,
          15,
          16,
          17,
          18,
          19,
          20,
          21,
          22,
          23,
          24,
          25,
          26,
          27,
          28,
          29,
          30,
          31,
          32,
          33,
          34,
          35,
          36,
          37,
          38,
          39,
          40,
          41,
          42,
          43,
          44,
          45
         ],
         "xaxis": "x5",
         "y": [
          0.00456672081382349,
          0.007154739419399325,
          0.010982975823580005,
          0.016518974449728906,
          0.024343497941769526,
          0.03514954689872594,
          0.04972712223062073,
          0.06892928440867503,
          0.09361621113771477,
          0.12457623403976348,
          0.16242623700091033,
          0.20749804786553525,
          0.2597219738866798,
          0.3185225777710501,
          0.38274418039592445,
          0.4506234804013228,
          0.5198234728687676,
          0.5875364333334868,
          0.6506546921038766,
          0.7059975220676764,
          0.7505724765752864,
          0.7818418982815826,
          0.7979617845434244,
          0.7979617845434244,
          0.7818418982815826,
          0.7505724765752864,
          0.7059975220676764,
          0.6506546921038766,
          0.5875364333334868,
          0.5198234728687676,
          0.4506234804013228,
          0.38274418039592445,
          0.3185225777710501,
          0.2597219738866798,
          0.20749804786553525,
          0.16242623700091033,
          0.12457623403976348,
          0.09361621113771477,
          0.06892928440867503,
          0.04972712223062073,
          0.03514954689872594,
          0.024343497941769526,
          0.016518974449728906,
          0.010982975823580005,
          0.007154739419399325,
          0.00456672081382349
         ],
         "yaxis": "y5"
        },
        {
         "legendgroup": "group2",
         "line": {
          "color": "red"
         },
         "mode": "lines",
         "name": "Proposed",
         "showlegend": false,
         "type": "scatter",
         "x": [
          0,
          1,
          2,
          3,
          4,
          5,
          6,
          7,
          8,
          9,
          10,
          11,
          12,
          13,
          14,
          15,
          16,
          17,
          18,
          19,
          20,
          21,
          22,
          23,
          24,
          25,
          26,
          27,
          28,
          29,
          30,
          31,
          32,
          33,
          34,
          35,
          36,
          37,
          38,
          39,
          40,
          41,
          42,
          43,
          44,
          45
         ],
         "xaxis": "x5",
         "y": [
          0.024194250258201808,
          -0.018910656718582632,
          -0.005440457115643373,
          0.017089795871958403,
          0.03511927600264436,
          0.030266660122324308,
          0.03294097602307705,
          0.1020512420058829,
          0.0922182589766288,
          0.11954009748285477,
          0.1615737248615709,
          0.2571738535181395,
          0.23399684473951066,
          0.3788322155283571,
          0.35327624965563437,
          0.457143931490931,
          0.5363038932377482,
          0.5750892934026353,
          0.6310173147734803,
          0.774106502631117,
          0.792521039575046,
          0.7376951557077533,
          0.7843840644454207,
          0.7962581022401464,
          0.7833470542158383,
          0.7350467545960281,
          0.6955687176047584,
          0.6368211235107556,
          0.6050631738550541,
          0.4498668350520769,
          0.4490519710446511,
          0.36258719215532464,
          0.37558304080699234,
          0.27503890905625705,
          0.188761750332062,
          0.19452028075688754,
          0.05938323563907258,
          0.07964184646342815,
          0.04683072951334721,
          0.10596629098742916,
          -0.0019716137203834097,
          0.06154707037885834,
          0.03404852428063054,
          0.031395584065804824,
          0.040647261696522954,
          0.021869142602306553
         ],
         "yaxis": "y5"
        },
        {
         "legendgroup": "group3",
         "line": {
          "color": "pink"
         },
         "mode": "lines",
         "name": "DANN",
         "showlegend": false,
         "type": "scatter",
         "x": [
          0,
          1,
          2,
          3,
          4,
          5,
          6,
          7,
          8,
          9,
          10,
          11,
          12,
          13,
          14,
          15,
          16,
          17,
          18,
          19,
          20,
          21,
          22,
          23,
          24,
          25,
          26,
          27,
          28,
          29,
          30,
          31,
          32,
          33,
          34,
          35,
          36,
          37,
          38,
          39,
          40,
          41,
          42,
          43,
          44,
          45
         ],
         "xaxis": "x5",
         "y": [
          0.04063444336760674,
          0.025130829782029365,
          0.06647420998100975,
          -0.06318984274067838,
          -0.029959576191239585,
          -0.011838633754821158,
          0.05642975327127796,
          0.12870356365123484,
          0.05726891455695355,
          0.15924077414204713,
          0.16061478634633616,
          0.17554229647020975,
          0.195964408289379,
          0.31703027847761023,
          0.370758169553708,
          0.44248955948341434,
          0.42758537647712436,
          0.6053234781082792,
          0.6898953761100202,
          0.6685979871104105,
          0.7637508997291453,
          0.7663590130055354,
          0.7668488654099328,
          0.7083795585937174,
          0.6729081616504182,
          0.7222954208924774,
          0.6234543691171136,
          0.6836735413266203,
          0.6527180205335961,
          0.5176505261668715,
          0.4343247680514718,
          0.2620952564980712,
          0.36474158595513584,
          0.2352422629844264,
          0.22242119224393642,
          0.23557427032362888,
          0.1780624347848556,
          0.21090142932725947,
          0.018221077879111577,
          0.09770869354192235,
          -0.0018916751744055132,
          0.04141758278632959,
          0.012538163379765793,
          -0.04657386053142605,
          0.0522174155277698,
          0.027182640304760614
         ],
         "yaxis": "y5"
        },
        {
         "legendgroup": "group1",
         "line": {
          "color": "blue"
         },
         "mode": "lines",
         "name": "True",
         "showlegend": false,
         "type": "scatter",
         "x": [
          0,
          1,
          2,
          3,
          4,
          5,
          6,
          7,
          8,
          9,
          10,
          11,
          12,
          13,
          14,
          15,
          16,
          17,
          18,
          19,
          20,
          21,
          22,
          23,
          24,
          25,
          26,
          27,
          28,
          29,
          30,
          31,
          32,
          33,
          34,
          35,
          36,
          37,
          38,
          39,
          40,
          41,
          42,
          43,
          44,
          45
         ],
         "xaxis": "x6",
         "y": [
          0.00456672081382349,
          0.007154739419399325,
          0.010982975823580005,
          0.016518974449728906,
          0.024343497941769526,
          0.03514954689872594,
          0.04972712223062073,
          0.06892928440867503,
          0.09361621113771477,
          0.12457623403976348,
          0.16242623700091033,
          0.20749804786553525,
          0.2597219738866798,
          0.3185225777710501,
          0.38274418039592445,
          0.4506234804013228,
          0.5198234728687676,
          0.5875364333334868,
          0.6506546921038766,
          0.7059975220676764,
          0.7505724765752864,
          0.7818418982815826,
          0.7979617845434244,
          0.7979617845434244,
          0.7818418982815826,
          0.7505724765752864,
          0.7059975220676764,
          0.6506546921038766,
          0.5875364333334868,
          0.5198234728687676,
          0.4506234804013228,
          0.38274418039592445,
          0.3185225777710501,
          0.2597219738866798,
          0.20749804786553525,
          0.16242623700091033,
          0.12457623403976348,
          0.09361621113771477,
          0.06892928440867503,
          0.04972712223062073,
          0.03514954689872594,
          0.024343497941769526,
          0.016518974449728906,
          0.010982975823580005,
          0.007154739419399325,
          0.00456672081382349
         ],
         "yaxis": "y6"
        },
        {
         "legendgroup": "group2",
         "line": {
          "color": "red"
         },
         "mode": "lines",
         "name": "Proposed",
         "showlegend": false,
         "type": "scatter",
         "x": [
          0,
          1,
          2,
          3,
          4,
          5,
          6,
          7,
          8,
          9,
          10,
          11,
          12,
          13,
          14,
          15,
          16,
          17,
          18,
          19,
          20,
          21,
          22,
          23,
          24,
          25,
          26,
          27,
          28,
          29,
          30,
          31,
          32,
          33,
          34,
          35,
          36,
          37,
          38,
          39,
          40,
          41,
          42,
          43,
          44,
          45
         ],
         "xaxis": "x6",
         "y": [
          -0.006828151030514114,
          -0.04401762134676849,
          0.10853361546052927,
          0.022796204182573224,
          0.030002011283370707,
          -0.006908262187657548,
          0.055037500536372935,
          0.09393883576071654,
          0.10422979494099942,
          0.1550833623654569,
          0.16437108789124238,
          0.17429275323065296,
          0.2798797912745583,
          0.3336132645634947,
          0.3686542539263285,
          0.4906665486072772,
          0.5954774577361224,
          0.6080783713185148,
          0.6608553600363455,
          0.737283164258622,
          0.7388062239679122,
          0.7846917360719444,
          0.7652911929125694,
          0.7429751686920307,
          0.8089910102699005,
          0.771090042092188,
          0.7267182639868482,
          0.6503664232018395,
          0.525106504111083,
          0.5263396247182341,
          0.47427198462452547,
          0.37062054019443924,
          0.30053712478555933,
          0.2716808857721048,
          0.2029547386188612,
          0.18775450788740788,
          0.15335885297264398,
          0.10543055494620357,
          0.09239903787677303,
          0.07571265304437573,
          0.07695696490540566,
          0.060352866868027225,
          0.028749707486392113,
          0.01385656018678751,
          0.015228064761509522,
          0.008334872928316549
         ],
         "yaxis": "y6"
        },
        {
         "legendgroup": "group3",
         "line": {
          "color": "pink"
         },
         "mode": "lines",
         "name": "DANN",
         "showlegend": false,
         "type": "scatter",
         "x": [
          0,
          1,
          2,
          3,
          4,
          5,
          6,
          7,
          8,
          9,
          10,
          11,
          12,
          13,
          14,
          15,
          16,
          17,
          18,
          19,
          20,
          21,
          22,
          23,
          24,
          25,
          26,
          27,
          28,
          29,
          30,
          31,
          32,
          33,
          34,
          35,
          36,
          37,
          38,
          39,
          40,
          41,
          42,
          43,
          44,
          45
         ],
         "xaxis": "x6",
         "y": [
          -0.032443500595705416,
          -0.02545126672405439,
          0.0719141470659221,
          0.009554530207429236,
          0.036360994674064014,
          0.04353005645290981,
          0.11622448357100097,
          -0.008996075715049637,
          0.10533653432715444,
          0.09258478384833786,
          0.19104318740676535,
          0.2263996329171764,
          0.39301288703701587,
          0.31268955029135204,
          0.4041283159152574,
          0.37535474878042585,
          0.5785096577404993,
          0.6625150699729927,
          0.5870947171897206,
          0.665001884633903,
          0.720233901703933,
          0.7295752370102725,
          0.8141084916984747,
          0.8507623574620877,
          0.7790421028117244,
          0.8277860769235289,
          0.7718158490105921,
          0.6064249752332912,
          0.5281338267999877,
          0.5048476795580802,
          0.41065187880841775,
          0.4294120566802228,
          0.3093155592416639,
          0.19371008895925185,
          0.17792139999300027,
          0.13200058239040138,
          0.12803700935359788,
          0.12456991498661779,
          0.01977670160119545,
          0.10909887937454293,
          -0.016109491230826924,
          0.01811887937382767,
          0.03828859388038666,
          0.054300619799507996,
          0.013479242289096808,
          -0.043782818498299125
         ],
         "yaxis": "y6"
        },
        {
         "legendgroup": "group1",
         "line": {
          "color": "blue"
         },
         "mode": "lines",
         "name": "True",
         "showlegend": false,
         "type": "scatter",
         "x": [
          0,
          1,
          2,
          3,
          4,
          5,
          6,
          7,
          8,
          9,
          10,
          11,
          12,
          13,
          14,
          15,
          16,
          17,
          18,
          19,
          20,
          21,
          22,
          23,
          24,
          25,
          26,
          27,
          28,
          29,
          30,
          31,
          32,
          33,
          34,
          35,
          36,
          37,
          38,
          39,
          40,
          41,
          42,
          43,
          44,
          45
         ],
         "xaxis": "x7",
         "y": [
          0.00456672081382349,
          0.007154739419399325,
          0.010982975823580005,
          0.016518974449728906,
          0.024343497941769526,
          0.03514954689872594,
          0.04972712223062073,
          0.06892928440867503,
          0.09361621113771477,
          0.12457623403976348,
          0.16242623700091033,
          0.20749804786553525,
          0.2597219738866798,
          0.3185225777710501,
          0.38274418039592445,
          0.4506234804013228,
          0.5198234728687676,
          0.5875364333334868,
          0.6506546921038766,
          0.7059975220676764,
          0.7505724765752864,
          0.7818418982815826,
          0.7979617845434244,
          0.7979617845434244,
          0.7818418982815826,
          0.7505724765752864,
          0.7059975220676764,
          0.6506546921038766,
          0.5875364333334868,
          0.5198234728687676,
          0.4506234804013228,
          0.38274418039592445,
          0.3185225777710501,
          0.2597219738866798,
          0.20749804786553525,
          0.16242623700091033,
          0.12457623403976348,
          0.09361621113771477,
          0.06892928440867503,
          0.04972712223062073,
          0.03514954689872594,
          0.024343497941769526,
          0.016518974449728906,
          0.010982975823580005,
          0.007154739419399325,
          0.00456672081382349
         ],
         "yaxis": "y7"
        },
        {
         "legendgroup": "group2",
         "line": {
          "color": "red"
         },
         "mode": "lines",
         "name": "Proposed",
         "showlegend": false,
         "type": "scatter",
         "x": [
          0,
          1,
          2,
          3,
          4,
          5,
          6,
          7,
          8,
          9,
          10,
          11,
          12,
          13,
          14,
          15,
          16,
          17,
          18,
          19,
          20,
          21,
          22,
          23,
          24,
          25,
          26,
          27,
          28,
          29,
          30,
          31,
          32,
          33,
          34,
          35,
          36,
          37,
          38,
          39,
          40,
          41,
          42,
          43,
          44,
          45
         ],
         "xaxis": "x7",
         "y": [
          -0.0011361067035536411,
          0.023201240573072168,
          -0.0023670529688151615,
          0.0005496370226931793,
          0.014300655135904512,
          0.04202642956702977,
          0.06607031964193452,
          0.040313267233663824,
          0.06274787373035445,
          0.10350926658743453,
          0.14091776611561257,
          0.1947435756390384,
          0.2747737624059613,
          0.24126042772613107,
          0.3576508504311692,
          0.4572141592031228,
          0.5477335816879886,
          0.5761847554658583,
          0.6510436053434546,
          0.692697810051953,
          0.7082158906894058,
          0.7706834495921122,
          0.8458621701860592,
          0.7905472865286169,
          0.7749061112606367,
          0.7713836787794299,
          0.6868576700219986,
          0.6507777978268071,
          0.577526946082616,
          0.508708041042421,
          0.4359078717263582,
          0.33686665630800733,
          0.3203453359965734,
          0.2521854274610006,
          0.21294058442440061,
          0.16907865162060376,
          0.1602771294676797,
          0.11482107009760413,
          0.09502300896851681,
          0.06496599183174775,
          0.04380761924832347,
          0.013405874174156894,
          0.08675418574230687,
          0.042324717748574325,
          0.028419877431348238,
          0.026737408245714998
         ],
         "yaxis": "y7"
        },
        {
         "legendgroup": "group3",
         "line": {
          "color": "pink"
         },
         "mode": "lines",
         "name": "DANN",
         "showlegend": false,
         "type": "scatter",
         "x": [
          0,
          1,
          2,
          3,
          4,
          5,
          6,
          7,
          8,
          9,
          10,
          11,
          12,
          13,
          14,
          15,
          16,
          17,
          18,
          19,
          20,
          21,
          22,
          23,
          24,
          25,
          26,
          27,
          28,
          29,
          30,
          31,
          32,
          33,
          34,
          35,
          36,
          37,
          38,
          39,
          40,
          41,
          42,
          43,
          44,
          45
         ],
         "xaxis": "x7",
         "y": [
          -0.0002063668245667902,
          0.027485287216372133,
          0.009863853115375652,
          -0.022284074106746522,
          0.09868160598658164,
          0.08328072489180714,
          -0.05136493158402311,
          0.04528004428774054,
          0.10080503736373504,
          0.09086202068772709,
          0.10937215659291784,
          0.20184133754397515,
          0.2137277880677113,
          0.23362349248219122,
          0.4077254033977048,
          0.5056827361793451,
          0.4697017197535374,
          0.5544448746402644,
          0.7351652027227978,
          0.7863475381075478,
          0.6696459314151604,
          0.8613729364919941,
          0.7849496913817599,
          0.8418826887241175,
          0.8560697989507714,
          0.6295360678472506,
          0.6730675274526179,
          0.6233626763474188,
          0.5633554698065003,
          0.5370990096482892,
          0.4818795897640029,
          0.2987106176497619,
          0.3052250410098197,
          0.29389382445419077,
          0.21543367975557762,
          0.16140520073398065,
          0.20515372738738893,
          0.05560538472091131,
          0.023618733304429623,
          -0.0219752338386926,
          0.005672990237586217,
          0.021427509311128873,
          0.011952377951512688,
          0.010672076456915569,
          -0.04619411463320178,
          0.02519623551890466
         ],
         "yaxis": "y7"
        },
        {
         "legendgroup": "group1",
         "line": {
          "color": "blue"
         },
         "mode": "lines",
         "name": "True",
         "showlegend": false,
         "type": "scatter",
         "x": [
          0,
          1,
          2,
          3,
          4,
          5,
          6,
          7,
          8,
          9,
          10,
          11,
          12,
          13,
          14,
          15,
          16,
          17,
          18,
          19,
          20,
          21,
          22,
          23,
          24,
          25,
          26,
          27,
          28,
          29,
          30,
          31,
          32,
          33,
          34,
          35,
          36,
          37,
          38,
          39,
          40,
          41,
          42,
          43,
          44,
          45
         ],
         "xaxis": "x8",
         "y": [
          0.00456672081382349,
          0.007154739419399325,
          0.010982975823580005,
          0.016518974449728906,
          0.024343497941769526,
          0.03514954689872594,
          0.04972712223062073,
          0.06892928440867503,
          0.09361621113771477,
          0.12457623403976348,
          0.16242623700091033,
          0.20749804786553525,
          0.2597219738866798,
          0.3185225777710501,
          0.38274418039592445,
          0.4506234804013228,
          0.5198234728687676,
          0.5875364333334868,
          0.6506546921038766,
          0.7059975220676764,
          0.7505724765752864,
          0.7818418982815826,
          0.7979617845434244,
          0.7979617845434244,
          0.7818418982815826,
          0.7505724765752864,
          0.7059975220676764,
          0.6506546921038766,
          0.5875364333334868,
          0.5198234728687676,
          0.4506234804013228,
          0.38274418039592445,
          0.3185225777710501,
          0.2597219738866798,
          0.20749804786553525,
          0.16242623700091033,
          0.12457623403976348,
          0.09361621113771477,
          0.06892928440867503,
          0.04972712223062073,
          0.03514954689872594,
          0.024343497941769526,
          0.016518974449728906,
          0.010982975823580005,
          0.007154739419399325,
          0.00456672081382349
         ],
         "yaxis": "y8"
        },
        {
         "legendgroup": "group2",
         "line": {
          "color": "red"
         },
         "mode": "lines",
         "name": "Proposed",
         "showlegend": false,
         "type": "scatter",
         "x": [
          0,
          1,
          2,
          3,
          4,
          5,
          6,
          7,
          8,
          9,
          10,
          11,
          12,
          13,
          14,
          15,
          16,
          17,
          18,
          19,
          20,
          21,
          22,
          23,
          24,
          25,
          26,
          27,
          28,
          29,
          30,
          31,
          32,
          33,
          34,
          35,
          36,
          37,
          38,
          39,
          40,
          41,
          42,
          43,
          44,
          45
         ],
         "xaxis": "x8",
         "y": [
          -0.02519649596386827,
          0.0061198756330386895,
          -0.011890395023788754,
          -0.02284507746284479,
          -0.01345653345839962,
          0.0004111609749504405,
          0.05799471264489453,
          0.07688092323236558,
          -0.0059589737124410985,
          0.13969588734284052,
          0.154337169906459,
          0.19398636090187207,
          0.2567301301589668,
          0.3033288242504243,
          0.41228314471706246,
          0.41357298229581546,
          0.5507386706709757,
          0.6057795584179698,
          0.6939876136699153,
          0.7374229539759558,
          0.7313498847798302,
          0.7690650202781264,
          0.794965808603025,
          0.7441380534510693,
          0.8324310032724718,
          0.7445267328868607,
          0.7137729826577786,
          0.6170526945473233,
          0.5312702870021054,
          0.511249199122792,
          0.4214932863324578,
          0.4397519919245886,
          0.2617104837581983,
          0.2428276223432543,
          0.16949888081486414,
          0.1142716040843532,
          0.1537351816946508,
          0.1181462043086819,
          0.07101536104817881,
          0.056356423441477475,
          0.058757218829554474,
          -0.006023999551391487,
          0.027016995181072888,
          0.04080644816600894,
          0.08235593618658456,
          -0.001990664074488188
         ],
         "yaxis": "y8"
        },
        {
         "legendgroup": "group3",
         "line": {
          "color": "pink"
         },
         "mode": "lines",
         "name": "DANN",
         "showlegend": false,
         "type": "scatter",
         "x": [
          0,
          1,
          2,
          3,
          4,
          5,
          6,
          7,
          8,
          9,
          10,
          11,
          12,
          13,
          14,
          15,
          16,
          17,
          18,
          19,
          20,
          21,
          22,
          23,
          24,
          25,
          26,
          27,
          28,
          29,
          30,
          31,
          32,
          33,
          34,
          35,
          36,
          37,
          38,
          39,
          40,
          41,
          42,
          43,
          44,
          45
         ],
         "xaxis": "x8",
         "y": [
          -0.023375601638482783,
          0.06287926656671393,
          0.00033265254628879644,
          0.005245151279710175,
          0.08444683363546897,
          0.10325589667767085,
          0.1330527801245709,
          0.08303963336877235,
          0.08447787346066195,
          0.1760273931272359,
          0.1376307406730932,
          0.2571248343340552,
          0.26388495938968054,
          0.34916938456515134,
          0.4067463694817002,
          0.4780623874496572,
          0.5410940638522316,
          0.6528031256267001,
          0.7063887313240672,
          0.6762561947321621,
          0.778118363501164,
          0.776021643269684,
          0.8678496925187124,
          0.8550210842621386,
          0.709069777291873,
          0.8105305173590778,
          0.6794246802041786,
          0.6188103408179081,
          0.5639100403407036,
          0.5467544756810596,
          0.3703441330705093,
          0.36870427858658944,
          0.3161340015298053,
          0.27127921660175186,
          0.1681682442714724,
          0.2073673021417225,
          0.15210249352561073,
          0.02351397367201452,
          0.12166140919213161,
          0.05796505977657449,
          0.1256539066119128,
          -0.017296305645359413,
          -0.026063748095838737,
          0.032855528210225506,
          -0.04085125279944439,
          -0.05726902939320111
         ],
         "yaxis": "y8"
        },
        {
         "legendgroup": "group1",
         "line": {
          "color": "blue"
         },
         "mode": "lines",
         "name": "True",
         "showlegend": false,
         "type": "scatter",
         "x": [
          0,
          1,
          2,
          3,
          4,
          5,
          6,
          7,
          8,
          9,
          10,
          11,
          12,
          13,
          14,
          15,
          16,
          17,
          18,
          19,
          20,
          21,
          22,
          23,
          24,
          25,
          26,
          27,
          28,
          29,
          30,
          31,
          32,
          33,
          34,
          35,
          36,
          37,
          38,
          39,
          40,
          41,
          42,
          43,
          44,
          45
         ],
         "xaxis": "x9",
         "y": [
          0.00456672081382349,
          0.007154739419399325,
          0.010982975823580005,
          0.016518974449728906,
          0.024343497941769526,
          0.03514954689872594,
          0.04972712223062073,
          0.06892928440867503,
          0.09361621113771477,
          0.12457623403976348,
          0.16242623700091033,
          0.20749804786553525,
          0.2597219738866798,
          0.3185225777710501,
          0.38274418039592445,
          0.4506234804013228,
          0.5198234728687676,
          0.5875364333334868,
          0.6506546921038766,
          0.7059975220676764,
          0.7505724765752864,
          0.7818418982815826,
          0.7979617845434244,
          0.7979617845434244,
          0.7818418982815826,
          0.7505724765752864,
          0.7059975220676764,
          0.6506546921038766,
          0.5875364333334868,
          0.5198234728687676,
          0.4506234804013228,
          0.38274418039592445,
          0.3185225777710501,
          0.2597219738866798,
          0.20749804786553525,
          0.16242623700091033,
          0.12457623403976348,
          0.09361621113771477,
          0.06892928440867503,
          0.04972712223062073,
          0.03514954689872594,
          0.024343497941769526,
          0.016518974449728906,
          0.010982975823580005,
          0.007154739419399325,
          0.00456672081382349
         ],
         "yaxis": "y9"
        },
        {
         "legendgroup": "group2",
         "line": {
          "color": "red"
         },
         "mode": "lines",
         "name": "Proposed",
         "showlegend": false,
         "type": "scatter",
         "x": [
          0,
          1,
          2,
          3,
          4,
          5,
          6,
          7,
          8,
          9,
          10,
          11,
          12,
          13,
          14,
          15,
          16,
          17,
          18,
          19,
          20,
          21,
          22,
          23,
          24,
          25,
          26,
          27,
          28,
          29,
          30,
          31,
          32,
          33,
          34,
          35,
          36,
          37,
          38,
          39,
          40,
          41,
          42,
          43,
          44,
          45
         ],
         "xaxis": "x9",
         "y": [
          0.024859698923124018,
          -0.0207878183427683,
          -0.016448182158237575,
          0.015654494065798576,
          0.018871792319654808,
          0.050275178258352926,
          0.06083334652809908,
          0.05820643076509541,
          0.05015656049690122,
          0.1393609547189893,
          0.13540682931386117,
          0.1910084447985538,
          0.27127849477822646,
          0.2912607339438342,
          0.4003740578936995,
          0.4421784687248086,
          0.49402592585373345,
          0.5764452439035211,
          0.6747980209484242,
          0.736844278337466,
          0.7952062833027471,
          0.7741045598528924,
          0.8200131806441474,
          0.8309282400781327,
          0.8205857050944217,
          0.7301540840754418,
          0.7080905053826813,
          0.6420329551514649,
          0.544927823821933,
          0.4893700785375992,
          0.4346795601035447,
          0.38876004988566615,
          0.37593314115083815,
          0.3026350785446613,
          0.2459065042094873,
          0.17884638859190732,
          0.1596576558239281,
          0.16773665179825925,
          0.06580516934057846,
          0.06309182883877114,
          0.08634284462424172,
          0.10035909017154564,
          0.009812385522166123,
          0.03664597786410387,
          -0.06458403909632088,
          0.019660695660590016
         ],
         "yaxis": "y9"
        },
        {
         "legendgroup": "group3",
         "line": {
          "color": "pink"
         },
         "mode": "lines",
         "name": "DANN",
         "showlegend": false,
         "type": "scatter",
         "x": [
          0,
          1,
          2,
          3,
          4,
          5,
          6,
          7,
          8,
          9,
          10,
          11,
          12,
          13,
          14,
          15,
          16,
          17,
          18,
          19,
          20,
          21,
          22,
          23,
          24,
          25,
          26,
          27,
          28,
          29,
          30,
          31,
          32,
          33,
          34,
          35,
          36,
          37,
          38,
          39,
          40,
          41,
          42,
          43,
          44,
          45
         ],
         "xaxis": "x9",
         "y": [
          -0.00011202580468278218,
          -0.049680659464920215,
          0.043659322298655365,
          -0.029397779586439625,
          0.06221590640701696,
          0.00023959684579727414,
          0.02491887426282767,
          0.09214753705180961,
          0.011584165443141947,
          0.08780906064806407,
          0.22650663952246497,
          0.2447605988664218,
          0.24973068088303516,
          0.3051356524728742,
          0.48667265543905885,
          0.44598093481134754,
          0.5229720085828746,
          0.5657814645600463,
          0.7547149771768451,
          0.7385757157178185,
          0.7701474192452537,
          0.7243418494560124,
          0.8222303593256612,
          0.7384532200201107,
          0.723003050415047,
          0.8657505541931253,
          0.5818587830675082,
          0.7055802317600766,
          0.5574132881439025,
          0.54522205614878,
          0.4671187122506273,
          0.39857425348828396,
          0.35961948281986944,
          0.22471188020132743,
          0.2764288260451699,
          0.19483357997945183,
          0.1373635148835496,
          0.10983829715252383,
          0.061252619029916466,
          0.10872461980399345,
          0.06582122882600987,
          0.020324230688522953,
          0.008173270013117063,
          -0.06122539707383648,
          0.06341372304482935,
          -0.05400302674322179
         ],
         "yaxis": "y9"
        }
       ],
       "layout": {
        "annotations": [
         {
          "font": {
           "size": 16
          },
          "showarrow": false,
          "text": "Available 200 days",
          "x": 0.14333333333333334,
          "xanchor": "center",
          "xref": "paper",
          "y": 1,
          "yanchor": "bottom",
          "yref": "paper"
         },
         {
          "font": {
           "size": 16
          },
          "showarrow": false,
          "text": "Available 150 days",
          "x": 0.5,
          "xanchor": "center",
          "xref": "paper",
          "y": 1,
          "yanchor": "bottom",
          "yref": "paper"
         },
         {
          "font": {
           "size": 16
          },
          "showarrow": false,
          "text": "Available 100 days",
          "x": 0.8566666666666667,
          "xanchor": "center",
          "xref": "paper",
          "y": 1,
          "yanchor": "bottom",
          "yref": "paper"
         },
         {
          "font": {
           "size": 16
          },
          "showarrow": false,
          "text": "Available 200 days",
          "x": 0.14333333333333334,
          "xanchor": "center",
          "xref": "paper",
          "y": 0.6333333333333333,
          "yanchor": "bottom",
          "yref": "paper"
         },
         {
          "font": {
           "size": 16
          },
          "showarrow": false,
          "text": "Available 150 days",
          "x": 0.5,
          "xanchor": "center",
          "xref": "paper",
          "y": 0.6333333333333333,
          "yanchor": "bottom",
          "yref": "paper"
         },
         {
          "font": {
           "size": 16
          },
          "showarrow": false,
          "text": "Available 100 days",
          "x": 0.8566666666666667,
          "xanchor": "center",
          "xref": "paper",
          "y": 0.6333333333333333,
          "yanchor": "bottom",
          "yref": "paper"
         },
         {
          "font": {
           "size": 16
          },
          "showarrow": false,
          "text": "Available 200 days",
          "x": 0.14333333333333334,
          "xanchor": "center",
          "xref": "paper",
          "y": 0.26666666666666666,
          "yanchor": "bottom",
          "yref": "paper"
         },
         {
          "font": {
           "size": 16
          },
          "showarrow": false,
          "text": "Available 150 days",
          "x": 0.5,
          "xanchor": "center",
          "xref": "paper",
          "y": 0.26666666666666666,
          "yanchor": "bottom",
          "yref": "paper"
         },
         {
          "font": {
           "size": 16
          },
          "showarrow": false,
          "text": "Available 100 days",
          "x": 0.8566666666666667,
          "xanchor": "center",
          "xref": "paper",
          "y": 0.26666666666666666,
          "yanchor": "bottom",
          "yref": "paper"
         }
        ],
        "height": 900,
        "legend": {
         "bgcolor": "rgba(255, 255, 255, 0.8)",
         "bordercolor": "black",
         "borderwidth": 1,
         "orientation": "h",
         "x": 0.5,
         "xanchor": "center",
         "y": -0.2,
         "yanchor": "top"
        },
        "margin": {
         "b": 60,
         "l": 60,
         "r": 40,
         "t": 60
        },
        "showlegend": true,
        "template": {
         "data": {
          "bar": [
           {
            "error_x": {
             "color": "#2a3f5f"
            },
            "error_y": {
             "color": "#2a3f5f"
            },
            "marker": {
             "line": {
              "color": "#E5ECF6",
              "width": 0.5
             },
             "pattern": {
              "fillmode": "overlay",
              "size": 10,
              "solidity": 0.2
             }
            },
            "type": "bar"
           }
          ],
          "barpolar": [
           {
            "marker": {
             "line": {
              "color": "#E5ECF6",
              "width": 0.5
             },
             "pattern": {
              "fillmode": "overlay",
              "size": 10,
              "solidity": 0.2
             }
            },
            "type": "barpolar"
           }
          ],
          "carpet": [
           {
            "aaxis": {
             "endlinecolor": "#2a3f5f",
             "gridcolor": "white",
             "linecolor": "white",
             "minorgridcolor": "white",
             "startlinecolor": "#2a3f5f"
            },
            "baxis": {
             "endlinecolor": "#2a3f5f",
             "gridcolor": "white",
             "linecolor": "white",
             "minorgridcolor": "white",
             "startlinecolor": "#2a3f5f"
            },
            "type": "carpet"
           }
          ],
          "choropleth": [
           {
            "colorbar": {
             "outlinewidth": 0,
             "ticks": ""
            },
            "type": "choropleth"
           }
          ],
          "contour": [
           {
            "colorbar": {
             "outlinewidth": 0,
             "ticks": ""
            },
            "colorscale": [
             [
              0,
              "#0d0887"
             ],
             [
              0.1111111111111111,
              "#46039f"
             ],
             [
              0.2222222222222222,
              "#7201a8"
             ],
             [
              0.3333333333333333,
              "#9c179e"
             ],
             [
              0.4444444444444444,
              "#bd3786"
             ],
             [
              0.5555555555555556,
              "#d8576b"
             ],
             [
              0.6666666666666666,
              "#ed7953"
             ],
             [
              0.7777777777777778,
              "#fb9f3a"
             ],
             [
              0.8888888888888888,
              "#fdca26"
             ],
             [
              1,
              "#f0f921"
             ]
            ],
            "type": "contour"
           }
          ],
          "contourcarpet": [
           {
            "colorbar": {
             "outlinewidth": 0,
             "ticks": ""
            },
            "type": "contourcarpet"
           }
          ],
          "heatmap": [
           {
            "colorbar": {
             "outlinewidth": 0,
             "ticks": ""
            },
            "colorscale": [
             [
              0,
              "#0d0887"
             ],
             [
              0.1111111111111111,
              "#46039f"
             ],
             [
              0.2222222222222222,
              "#7201a8"
             ],
             [
              0.3333333333333333,
              "#9c179e"
             ],
             [
              0.4444444444444444,
              "#bd3786"
             ],
             [
              0.5555555555555556,
              "#d8576b"
             ],
             [
              0.6666666666666666,
              "#ed7953"
             ],
             [
              0.7777777777777778,
              "#fb9f3a"
             ],
             [
              0.8888888888888888,
              "#fdca26"
             ],
             [
              1,
              "#f0f921"
             ]
            ],
            "type": "heatmap"
           }
          ],
          "heatmapgl": [
           {
            "colorbar": {
             "outlinewidth": 0,
             "ticks": ""
            },
            "colorscale": [
             [
              0,
              "#0d0887"
             ],
             [
              0.1111111111111111,
              "#46039f"
             ],
             [
              0.2222222222222222,
              "#7201a8"
             ],
             [
              0.3333333333333333,
              "#9c179e"
             ],
             [
              0.4444444444444444,
              "#bd3786"
             ],
             [
              0.5555555555555556,
              "#d8576b"
             ],
             [
              0.6666666666666666,
              "#ed7953"
             ],
             [
              0.7777777777777778,
              "#fb9f3a"
             ],
             [
              0.8888888888888888,
              "#fdca26"
             ],
             [
              1,
              "#f0f921"
             ]
            ],
            "type": "heatmapgl"
           }
          ],
          "histogram": [
           {
            "marker": {
             "pattern": {
              "fillmode": "overlay",
              "size": 10,
              "solidity": 0.2
             }
            },
            "type": "histogram"
           }
          ],
          "histogram2d": [
           {
            "colorbar": {
             "outlinewidth": 0,
             "ticks": ""
            },
            "colorscale": [
             [
              0,
              "#0d0887"
             ],
             [
              0.1111111111111111,
              "#46039f"
             ],
             [
              0.2222222222222222,
              "#7201a8"
             ],
             [
              0.3333333333333333,
              "#9c179e"
             ],
             [
              0.4444444444444444,
              "#bd3786"
             ],
             [
              0.5555555555555556,
              "#d8576b"
             ],
             [
              0.6666666666666666,
              "#ed7953"
             ],
             [
              0.7777777777777778,
              "#fb9f3a"
             ],
             [
              0.8888888888888888,
              "#fdca26"
             ],
             [
              1,
              "#f0f921"
             ]
            ],
            "type": "histogram2d"
           }
          ],
          "histogram2dcontour": [
           {
            "colorbar": {
             "outlinewidth": 0,
             "ticks": ""
            },
            "colorscale": [
             [
              0,
              "#0d0887"
             ],
             [
              0.1111111111111111,
              "#46039f"
             ],
             [
              0.2222222222222222,
              "#7201a8"
             ],
             [
              0.3333333333333333,
              "#9c179e"
             ],
             [
              0.4444444444444444,
              "#bd3786"
             ],
             [
              0.5555555555555556,
              "#d8576b"
             ],
             [
              0.6666666666666666,
              "#ed7953"
             ],
             [
              0.7777777777777778,
              "#fb9f3a"
             ],
             [
              0.8888888888888888,
              "#fdca26"
             ],
             [
              1,
              "#f0f921"
             ]
            ],
            "type": "histogram2dcontour"
           }
          ],
          "mesh3d": [
           {
            "colorbar": {
             "outlinewidth": 0,
             "ticks": ""
            },
            "type": "mesh3d"
           }
          ],
          "parcoords": [
           {
            "line": {
             "colorbar": {
              "outlinewidth": 0,
              "ticks": ""
             }
            },
            "type": "parcoords"
           }
          ],
          "pie": [
           {
            "automargin": true,
            "type": "pie"
           }
          ],
          "scatter": [
           {
            "fillpattern": {
             "fillmode": "overlay",
             "size": 10,
             "solidity": 0.2
            },
            "type": "scatter"
           }
          ],
          "scatter3d": [
           {
            "line": {
             "colorbar": {
              "outlinewidth": 0,
              "ticks": ""
             }
            },
            "marker": {
             "colorbar": {
              "outlinewidth": 0,
              "ticks": ""
             }
            },
            "type": "scatter3d"
           }
          ],
          "scattercarpet": [
           {
            "marker": {
             "colorbar": {
              "outlinewidth": 0,
              "ticks": ""
             }
            },
            "type": "scattercarpet"
           }
          ],
          "scattergeo": [
           {
            "marker": {
             "colorbar": {
              "outlinewidth": 0,
              "ticks": ""
             }
            },
            "type": "scattergeo"
           }
          ],
          "scattergl": [
           {
            "marker": {
             "colorbar": {
              "outlinewidth": 0,
              "ticks": ""
             }
            },
            "type": "scattergl"
           }
          ],
          "scattermapbox": [
           {
            "marker": {
             "colorbar": {
              "outlinewidth": 0,
              "ticks": ""
             }
            },
            "type": "scattermapbox"
           }
          ],
          "scatterpolar": [
           {
            "marker": {
             "colorbar": {
              "outlinewidth": 0,
              "ticks": ""
             }
            },
            "type": "scatterpolar"
           }
          ],
          "scatterpolargl": [
           {
            "marker": {
             "colorbar": {
              "outlinewidth": 0,
              "ticks": ""
             }
            },
            "type": "scatterpolargl"
           }
          ],
          "scatterternary": [
           {
            "marker": {
             "colorbar": {
              "outlinewidth": 0,
              "ticks": ""
             }
            },
            "type": "scatterternary"
           }
          ],
          "surface": [
           {
            "colorbar": {
             "outlinewidth": 0,
             "ticks": ""
            },
            "colorscale": [
             [
              0,
              "#0d0887"
             ],
             [
              0.1111111111111111,
              "#46039f"
             ],
             [
              0.2222222222222222,
              "#7201a8"
             ],
             [
              0.3333333333333333,
              "#9c179e"
             ],
             [
              0.4444444444444444,
              "#bd3786"
             ],
             [
              0.5555555555555556,
              "#d8576b"
             ],
             [
              0.6666666666666666,
              "#ed7953"
             ],
             [
              0.7777777777777778,
              "#fb9f3a"
             ],
             [
              0.8888888888888888,
              "#fdca26"
             ],
             [
              1,
              "#f0f921"
             ]
            ],
            "type": "surface"
           }
          ],
          "table": [
           {
            "cells": {
             "fill": {
              "color": "#EBF0F8"
             },
             "line": {
              "color": "white"
             }
            },
            "header": {
             "fill": {
              "color": "#C8D4E3"
             },
             "line": {
              "color": "white"
             }
            },
            "type": "table"
           }
          ]
         },
         "layout": {
          "annotationdefaults": {
           "arrowcolor": "#2a3f5f",
           "arrowhead": 0,
           "arrowwidth": 1
          },
          "autotypenumbers": "strict",
          "coloraxis": {
           "colorbar": {
            "outlinewidth": 0,
            "ticks": ""
           }
          },
          "colorscale": {
           "diverging": [
            [
             0,
             "#8e0152"
            ],
            [
             0.1,
             "#c51b7d"
            ],
            [
             0.2,
             "#de77ae"
            ],
            [
             0.3,
             "#f1b6da"
            ],
            [
             0.4,
             "#fde0ef"
            ],
            [
             0.5,
             "#f7f7f7"
            ],
            [
             0.6,
             "#e6f5d0"
            ],
            [
             0.7,
             "#b8e186"
            ],
            [
             0.8,
             "#7fbc41"
            ],
            [
             0.9,
             "#4d9221"
            ],
            [
             1,
             "#276419"
            ]
           ],
           "sequential": [
            [
             0,
             "#0d0887"
            ],
            [
             0.1111111111111111,
             "#46039f"
            ],
            [
             0.2222222222222222,
             "#7201a8"
            ],
            [
             0.3333333333333333,
             "#9c179e"
            ],
            [
             0.4444444444444444,
             "#bd3786"
            ],
            [
             0.5555555555555556,
             "#d8576b"
            ],
            [
             0.6666666666666666,
             "#ed7953"
            ],
            [
             0.7777777777777778,
             "#fb9f3a"
            ],
            [
             0.8888888888888888,
             "#fdca26"
            ],
            [
             1,
             "#f0f921"
            ]
           ],
           "sequentialminus": [
            [
             0,
             "#0d0887"
            ],
            [
             0.1111111111111111,
             "#46039f"
            ],
            [
             0.2222222222222222,
             "#7201a8"
            ],
            [
             0.3333333333333333,
             "#9c179e"
            ],
            [
             0.4444444444444444,
             "#bd3786"
            ],
            [
             0.5555555555555556,
             "#d8576b"
            ],
            [
             0.6666666666666666,
             "#ed7953"
            ],
            [
             0.7777777777777778,
             "#fb9f3a"
            ],
            [
             0.8888888888888888,
             "#fdca26"
            ],
            [
             1,
             "#f0f921"
            ]
           ]
          },
          "colorway": [
           "#636efa",
           "#EF553B",
           "#00cc96",
           "#ab63fa",
           "#FFA15A",
           "#19d3f3",
           "#FF6692",
           "#B6E880",
           "#FF97FF",
           "#FECB52"
          ],
          "font": {
           "color": "#2a3f5f"
          },
          "geo": {
           "bgcolor": "white",
           "lakecolor": "white",
           "landcolor": "#E5ECF6",
           "showlakes": true,
           "showland": true,
           "subunitcolor": "white"
          },
          "hoverlabel": {
           "align": "left"
          },
          "hovermode": "closest",
          "mapbox": {
           "style": "light"
          },
          "paper_bgcolor": "white",
          "plot_bgcolor": "#E5ECF6",
          "polar": {
           "angularaxis": {
            "gridcolor": "white",
            "linecolor": "white",
            "ticks": ""
           },
           "bgcolor": "#E5ECF6",
           "radialaxis": {
            "gridcolor": "white",
            "linecolor": "white",
            "ticks": ""
           }
          },
          "scene": {
           "xaxis": {
            "backgroundcolor": "#E5ECF6",
            "gridcolor": "white",
            "gridwidth": 2,
            "linecolor": "white",
            "showbackground": true,
            "ticks": "",
            "zerolinecolor": "white"
           },
           "yaxis": {
            "backgroundcolor": "#E5ECF6",
            "gridcolor": "white",
            "gridwidth": 2,
            "linecolor": "white",
            "showbackground": true,
            "ticks": "",
            "zerolinecolor": "white"
           },
           "zaxis": {
            "backgroundcolor": "#E5ECF6",
            "gridcolor": "white",
            "gridwidth": 2,
            "linecolor": "white",
            "showbackground": true,
            "ticks": "",
            "zerolinecolor": "white"
           }
          },
          "shapedefaults": {
           "line": {
            "color": "#2a3f5f"
           }
          },
          "ternary": {
           "aaxis": {
            "gridcolor": "white",
            "linecolor": "white",
            "ticks": ""
           },
           "baxis": {
            "gridcolor": "white",
            "linecolor": "white",
            "ticks": ""
           },
           "bgcolor": "#E5ECF6",
           "caxis": {
            "gridcolor": "white",
            "linecolor": "white",
            "ticks": ""
           }
          },
          "title": {
           "x": 0.05
          },
          "xaxis": {
           "automargin": true,
           "gridcolor": "white",
           "linecolor": "white",
           "ticks": "",
           "title": {
            "standoff": 15
           },
           "zerolinecolor": "white",
           "zerolinewidth": 2
          },
          "yaxis": {
           "automargin": true,
           "gridcolor": "white",
           "linecolor": "white",
           "ticks": "",
           "title": {
            "standoff": 15
           },
           "zerolinecolor": "white",
           "zerolinewidth": 2
          }
         }
        },
        "title": {
         "text": "The PV Power Prediction Results",
         "x": 0.5
        },
        "width": 900,
        "xaxis": {
         "anchor": "y",
         "domain": [
          0,
          0.2866666666666667
         ],
         "matches": "x7",
         "showticklabels": false
        },
        "xaxis2": {
         "anchor": "y2",
         "domain": [
          0.3566666666666667,
          0.6433333333333333
         ],
         "matches": "x8",
         "showticklabels": false
        },
        "xaxis3": {
         "anchor": "y3",
         "domain": [
          0.7133333333333334,
          1
         ],
         "matches": "x9",
         "showticklabels": false
        },
        "xaxis4": {
         "anchor": "y4",
         "domain": [
          0,
          0.2866666666666667
         ],
         "matches": "x7",
         "showticklabels": false
        },
        "xaxis5": {
         "anchor": "y5",
         "domain": [
          0.3566666666666667,
          0.6433333333333333
         ],
         "matches": "x8",
         "showticklabels": false
        },
        "xaxis6": {
         "anchor": "y6",
         "domain": [
          0.7133333333333334,
          1
         ],
         "matches": "x9",
         "showticklabels": false
        },
        "xaxis7": {
         "anchor": "y7",
         "domain": [
          0,
          0.2866666666666667
         ]
        },
        "xaxis8": {
         "anchor": "y8",
         "domain": [
          0.3566666666666667,
          0.6433333333333333
         ],
         "title": {
          "text": "Timeslot (15min)"
         }
        },
        "xaxis9": {
         "anchor": "y9",
         "domain": [
          0.7133333333333334,
          1
         ]
        },
        "yaxis": {
         "anchor": "x",
         "domain": [
          0.7333333333333334,
          1
         ]
        },
        "yaxis2": {
         "anchor": "x2",
         "domain": [
          0.7333333333333334,
          1
         ],
         "matches": "y",
         "showticklabels": false
        },
        "yaxis3": {
         "anchor": "x3",
         "domain": [
          0.7333333333333334,
          1
         ],
         "matches": "y",
         "showticklabels": false
        },
        "yaxis4": {
         "anchor": "x4",
         "domain": [
          0.3666666666666667,
          0.6333333333333333
         ],
         "title": {
          "text": "PV Power"
         }
        },
        "yaxis5": {
         "anchor": "x5",
         "domain": [
          0.3666666666666667,
          0.6333333333333333
         ],
         "matches": "y4",
         "showticklabels": false
        },
        "yaxis6": {
         "anchor": "x6",
         "domain": [
          0.3666666666666667,
          0.6333333333333333
         ],
         "matches": "y4",
         "showticklabels": false
        },
        "yaxis7": {
         "anchor": "x7",
         "domain": [
          0,
          0.26666666666666666
         ]
        },
        "yaxis8": {
         "anchor": "x8",
         "domain": [
          0,
          0.26666666666666666
         ],
         "matches": "y7",
         "showticklabels": false
        },
        "yaxis9": {
         "anchor": "x9",
         "domain": [
          0,
          0.26666666666666666
         ],
         "matches": "y7",
         "showticklabels": false
        }
       }
      }
     },
     "metadata": {},
     "output_type": "display_data"
    }
   ],
   "source": [
    "import numpy as np\n",
    "import plotly.graph_objects as go\n",
    "from plotly.subplots import make_subplots\n",
    "\n",
    "# Create a 3x3 subplot with adjusted spacing\n",
    "fig = make_subplots(\n",
    "    rows=3, cols=3, shared_xaxes=True, shared_yaxes=True,\n",
    "    horizontal_spacing=0.07, vertical_spacing=0.1,\n",
    "    subplot_titles=[\n",
    "        \"Available 200 days\", \"Available 150 days\", \"Available 100 days\",\n",
    "        \"Available 200 days\", \"Available 150 days\", \"Available 100 days\",\n",
    "        \"Available 200 days\", \"Available 150 days\", \"Available 100 days\"\n",
    "    ]\n",
    ")\n",
    "\n",
    "# Generate synthetic data\n",
    "time_slots = np.linspace(0, 45, 46)  # 46 points for 15 min intervals\n",
    "true_curve = lambda x: 0.8 * np.exp(-(x - 22.5)**2 / (2 * 7**2))  # Gaussian bell-shaped curve\n",
    "proposed_curve = lambda x: true_curve(x) + np.random.normal(0, 0.03, len(x))\n",
    "dann_curve = lambda x: true_curve(x) + np.random.normal(0, 0.05, len(x))\n",
    "\n",
    "# Add traces to subplots\n",
    "for i in range(3):\n",
    "    for j in range(3):\n",
    "        true_values = true_curve(time_slots)\n",
    "        proposed_values = proposed_curve(time_slots)\n",
    "        dann_values = dann_curve(time_slots)\n",
    "\n",
    "        # Add True curve\n",
    "        fig.add_trace(go.Scatter(\n",
    "            x=time_slots, y=true_values, mode='lines', \n",
    "            name='True', line=dict(color='blue'),\n",
    "            legendgroup=\"group1\", showlegend=(i == 0 and j == 0)\n",
    "        ), row=i+1, col=j+1)\n",
    "        \n",
    "        # Add Proposed curve\n",
    "        fig.add_trace(go.Scatter(\n",
    "            x=time_slots, y=proposed_values, mode='lines', \n",
    "            name='Proposed', line=dict(color='red'),\n",
    "            legendgroup=\"group2\", showlegend=(i == 0 and j == 0)\n",
    "        ), row=i+1, col=j+1)\n",
    "        \n",
    "        # Add DANN curve\n",
    "        fig.add_trace(go.Scatter(\n",
    "            x=time_slots, y=dann_values, mode='lines', \n",
    "            name='DANN', line=dict(color='pink'),\n",
    "            legendgroup=\"group3\", showlegend=(i == 0 and j == 0)\n",
    "        ), row=i+1, col=j+1)\n",
    "\n",
    "# Update axis labels\n",
    "fig.update_xaxes(title_text=\"Timeslot (15min)\", row=3, col=2)  # Add x-axis label to center\n",
    "fig.update_yaxes(title_text=\"PV Power\", row=2, col=1)         # Add y-axis label to center\n",
    "\n",
    "# Update layout for better spacing and global legend\n",
    "fig.update_layout(\n",
    "    height=900, width=900,\n",
    "    title_text=\"The PV Power Prediction Results\", title_x=0.5,\n",
    "    margin=dict(l=60, r=40, t=60, b=60),  # Adjust margins for legend and axis labels\n",
    "    legend=dict(\n",
    "        orientation=\"h\",       # Horizontal legend\n",
    "        yanchor=\"top\",         # Align legend box with top of the plot\n",
    "        y=-0.2,                # Move below the plot\n",
    "        xanchor=\"center\",\n",
    "        x=0.5,                 # Center the legend\n",
    "        bgcolor=\"rgba(255, 255, 255, 0.8)\",  # Slightly transparent background\n",
    "        bordercolor=\"black\",\n",
    "        borderwidth=1\n",
    "    ),\n",
    "    showlegend=True\n",
    ")\n",
    "\n",
    "# Show the figure\n",
    "fig.show()\n"
   ]
  },
  {
   "cell_type": "code",
   "execution_count": 5,
   "metadata": {},
   "outputs": [
    {
     "data": {
      "application/vnd.plotly.v1+json": {
       "config": {
        "plotlyServerURL": "https://plot.ly"
       },
       "data": [
        {
         "colorbar": {
          "ticks": "outside",
          "title": {
           "side": "right",
           "text": "MAPE"
          }
         },
         "colorscale": [
          [
           0,
           "red"
          ],
          [
           1,
           "blue"
          ]
         ],
         "type": "heatmap",
         "x": [
          "T1",
          "T2",
          "T3",
          "T4"
         ],
         "y": [
          "Large Model",
          "LSTM",
          "DLinear",
          "Vanilla Transformer"
         ],
         "z": [
          [
           49.93112818316614,
           81.21372661874913,
           86.58546597663836,
           68.80984170496991
          ],
          [
           0.637105646658831,
           81.24404859419857,
           64.36288767258434,
           64.84288899323278
          ],
          [
           28.763077970491857,
           92.86281914394257,
           2.1709756522396706,
           95.14236965161706
          ],
          [
           72.01669673961426,
           21.630150653826043,
           93.97889262229748,
           76.0840207291663
          ]
         ]
        }
       ],
       "layout": {
        "annotations": [
         {
          "font": {
           "color": "white"
          },
          "showarrow": false,
          "text": "49.9",
          "x": "T1",
          "y": "Large Model"
         },
         {
          "font": {
           "color": "white"
          },
          "showarrow": false,
          "text": "81.2",
          "x": "T2",
          "y": "Large Model"
         },
         {
          "font": {
           "color": "white"
          },
          "showarrow": false,
          "text": "86.6",
          "x": "T3",
          "y": "Large Model"
         },
         {
          "font": {
           "color": "white"
          },
          "showarrow": false,
          "text": "68.8",
          "x": "T4",
          "y": "Large Model"
         },
         {
          "font": {
           "color": "white"
          },
          "showarrow": false,
          "text": "0.6",
          "x": "T1",
          "y": "LSTM"
         },
         {
          "font": {
           "color": "white"
          },
          "showarrow": false,
          "text": "81.2",
          "x": "T2",
          "y": "LSTM"
         },
         {
          "font": {
           "color": "white"
          },
          "showarrow": false,
          "text": "64.4",
          "x": "T3",
          "y": "LSTM"
         },
         {
          "font": {
           "color": "white"
          },
          "showarrow": false,
          "text": "64.8",
          "x": "T4",
          "y": "LSTM"
         },
         {
          "font": {
           "color": "white"
          },
          "showarrow": false,
          "text": "28.8",
          "x": "T1",
          "y": "DLinear"
         },
         {
          "font": {
           "color": "white"
          },
          "showarrow": false,
          "text": "92.9",
          "x": "T2",
          "y": "DLinear"
         },
         {
          "font": {
           "color": "white"
          },
          "showarrow": false,
          "text": "2.2",
          "x": "T3",
          "y": "DLinear"
         },
         {
          "font": {
           "color": "white"
          },
          "showarrow": false,
          "text": "95.1",
          "x": "T4",
          "y": "DLinear"
         },
         {
          "font": {
           "color": "white"
          },
          "showarrow": false,
          "text": "72.0",
          "x": "T1",
          "y": "Vanilla Transformer"
         },
         {
          "font": {
           "color": "white"
          },
          "showarrow": false,
          "text": "21.6",
          "x": "T2",
          "y": "Vanilla Transformer"
         },
         {
          "font": {
           "color": "white"
          },
          "showarrow": false,
          "text": "94.0",
          "x": "T3",
          "y": "Vanilla Transformer"
         },
         {
          "font": {
           "color": "white"
          },
          "showarrow": false,
          "text": "76.1",
          "x": "T4",
          "y": "Vanilla Transformer"
         }
        ],
        "height": 500,
        "margin": {
         "b": 50,
         "l": 100,
         "r": 100,
         "t": 50
        },
        "template": {
         "data": {
          "bar": [
           {
            "error_x": {
             "color": "#2a3f5f"
            },
            "error_y": {
             "color": "#2a3f5f"
            },
            "marker": {
             "line": {
              "color": "#E5ECF6",
              "width": 0.5
             },
             "pattern": {
              "fillmode": "overlay",
              "size": 10,
              "solidity": 0.2
             }
            },
            "type": "bar"
           }
          ],
          "barpolar": [
           {
            "marker": {
             "line": {
              "color": "#E5ECF6",
              "width": 0.5
             },
             "pattern": {
              "fillmode": "overlay",
              "size": 10,
              "solidity": 0.2
             }
            },
            "type": "barpolar"
           }
          ],
          "carpet": [
           {
            "aaxis": {
             "endlinecolor": "#2a3f5f",
             "gridcolor": "white",
             "linecolor": "white",
             "minorgridcolor": "white",
             "startlinecolor": "#2a3f5f"
            },
            "baxis": {
             "endlinecolor": "#2a3f5f",
             "gridcolor": "white",
             "linecolor": "white",
             "minorgridcolor": "white",
             "startlinecolor": "#2a3f5f"
            },
            "type": "carpet"
           }
          ],
          "choropleth": [
           {
            "colorbar": {
             "outlinewidth": 0,
             "ticks": ""
            },
            "type": "choropleth"
           }
          ],
          "contour": [
           {
            "colorbar": {
             "outlinewidth": 0,
             "ticks": ""
            },
            "colorscale": [
             [
              0,
              "#0d0887"
             ],
             [
              0.1111111111111111,
              "#46039f"
             ],
             [
              0.2222222222222222,
              "#7201a8"
             ],
             [
              0.3333333333333333,
              "#9c179e"
             ],
             [
              0.4444444444444444,
              "#bd3786"
             ],
             [
              0.5555555555555556,
              "#d8576b"
             ],
             [
              0.6666666666666666,
              "#ed7953"
             ],
             [
              0.7777777777777778,
              "#fb9f3a"
             ],
             [
              0.8888888888888888,
              "#fdca26"
             ],
             [
              1,
              "#f0f921"
             ]
            ],
            "type": "contour"
           }
          ],
          "contourcarpet": [
           {
            "colorbar": {
             "outlinewidth": 0,
             "ticks": ""
            },
            "type": "contourcarpet"
           }
          ],
          "heatmap": [
           {
            "colorbar": {
             "outlinewidth": 0,
             "ticks": ""
            },
            "colorscale": [
             [
              0,
              "#0d0887"
             ],
             [
              0.1111111111111111,
              "#46039f"
             ],
             [
              0.2222222222222222,
              "#7201a8"
             ],
             [
              0.3333333333333333,
              "#9c179e"
             ],
             [
              0.4444444444444444,
              "#bd3786"
             ],
             [
              0.5555555555555556,
              "#d8576b"
             ],
             [
              0.6666666666666666,
              "#ed7953"
             ],
             [
              0.7777777777777778,
              "#fb9f3a"
             ],
             [
              0.8888888888888888,
              "#fdca26"
             ],
             [
              1,
              "#f0f921"
             ]
            ],
            "type": "heatmap"
           }
          ],
          "heatmapgl": [
           {
            "colorbar": {
             "outlinewidth": 0,
             "ticks": ""
            },
            "colorscale": [
             [
              0,
              "#0d0887"
             ],
             [
              0.1111111111111111,
              "#46039f"
             ],
             [
              0.2222222222222222,
              "#7201a8"
             ],
             [
              0.3333333333333333,
              "#9c179e"
             ],
             [
              0.4444444444444444,
              "#bd3786"
             ],
             [
              0.5555555555555556,
              "#d8576b"
             ],
             [
              0.6666666666666666,
              "#ed7953"
             ],
             [
              0.7777777777777778,
              "#fb9f3a"
             ],
             [
              0.8888888888888888,
              "#fdca26"
             ],
             [
              1,
              "#f0f921"
             ]
            ],
            "type": "heatmapgl"
           }
          ],
          "histogram": [
           {
            "marker": {
             "pattern": {
              "fillmode": "overlay",
              "size": 10,
              "solidity": 0.2
             }
            },
            "type": "histogram"
           }
          ],
          "histogram2d": [
           {
            "colorbar": {
             "outlinewidth": 0,
             "ticks": ""
            },
            "colorscale": [
             [
              0,
              "#0d0887"
             ],
             [
              0.1111111111111111,
              "#46039f"
             ],
             [
              0.2222222222222222,
              "#7201a8"
             ],
             [
              0.3333333333333333,
              "#9c179e"
             ],
             [
              0.4444444444444444,
              "#bd3786"
             ],
             [
              0.5555555555555556,
              "#d8576b"
             ],
             [
              0.6666666666666666,
              "#ed7953"
             ],
             [
              0.7777777777777778,
              "#fb9f3a"
             ],
             [
              0.8888888888888888,
              "#fdca26"
             ],
             [
              1,
              "#f0f921"
             ]
            ],
            "type": "histogram2d"
           }
          ],
          "histogram2dcontour": [
           {
            "colorbar": {
             "outlinewidth": 0,
             "ticks": ""
            },
            "colorscale": [
             [
              0,
              "#0d0887"
             ],
             [
              0.1111111111111111,
              "#46039f"
             ],
             [
              0.2222222222222222,
              "#7201a8"
             ],
             [
              0.3333333333333333,
              "#9c179e"
             ],
             [
              0.4444444444444444,
              "#bd3786"
             ],
             [
              0.5555555555555556,
              "#d8576b"
             ],
             [
              0.6666666666666666,
              "#ed7953"
             ],
             [
              0.7777777777777778,
              "#fb9f3a"
             ],
             [
              0.8888888888888888,
              "#fdca26"
             ],
             [
              1,
              "#f0f921"
             ]
            ],
            "type": "histogram2dcontour"
           }
          ],
          "mesh3d": [
           {
            "colorbar": {
             "outlinewidth": 0,
             "ticks": ""
            },
            "type": "mesh3d"
           }
          ],
          "parcoords": [
           {
            "line": {
             "colorbar": {
              "outlinewidth": 0,
              "ticks": ""
             }
            },
            "type": "parcoords"
           }
          ],
          "pie": [
           {
            "automargin": true,
            "type": "pie"
           }
          ],
          "scatter": [
           {
            "fillpattern": {
             "fillmode": "overlay",
             "size": 10,
             "solidity": 0.2
            },
            "type": "scatter"
           }
          ],
          "scatter3d": [
           {
            "line": {
             "colorbar": {
              "outlinewidth": 0,
              "ticks": ""
             }
            },
            "marker": {
             "colorbar": {
              "outlinewidth": 0,
              "ticks": ""
             }
            },
            "type": "scatter3d"
           }
          ],
          "scattercarpet": [
           {
            "marker": {
             "colorbar": {
              "outlinewidth": 0,
              "ticks": ""
             }
            },
            "type": "scattercarpet"
           }
          ],
          "scattergeo": [
           {
            "marker": {
             "colorbar": {
              "outlinewidth": 0,
              "ticks": ""
             }
            },
            "type": "scattergeo"
           }
          ],
          "scattergl": [
           {
            "marker": {
             "colorbar": {
              "outlinewidth": 0,
              "ticks": ""
             }
            },
            "type": "scattergl"
           }
          ],
          "scattermapbox": [
           {
            "marker": {
             "colorbar": {
              "outlinewidth": 0,
              "ticks": ""
             }
            },
            "type": "scattermapbox"
           }
          ],
          "scatterpolar": [
           {
            "marker": {
             "colorbar": {
              "outlinewidth": 0,
              "ticks": ""
             }
            },
            "type": "scatterpolar"
           }
          ],
          "scatterpolargl": [
           {
            "marker": {
             "colorbar": {
              "outlinewidth": 0,
              "ticks": ""
             }
            },
            "type": "scatterpolargl"
           }
          ],
          "scatterternary": [
           {
            "marker": {
             "colorbar": {
              "outlinewidth": 0,
              "ticks": ""
             }
            },
            "type": "scatterternary"
           }
          ],
          "surface": [
           {
            "colorbar": {
             "outlinewidth": 0,
             "ticks": ""
            },
            "colorscale": [
             [
              0,
              "#0d0887"
             ],
             [
              0.1111111111111111,
              "#46039f"
             ],
             [
              0.2222222222222222,
              "#7201a8"
             ],
             [
              0.3333333333333333,
              "#9c179e"
             ],
             [
              0.4444444444444444,
              "#bd3786"
             ],
             [
              0.5555555555555556,
              "#d8576b"
             ],
             [
              0.6666666666666666,
              "#ed7953"
             ],
             [
              0.7777777777777778,
              "#fb9f3a"
             ],
             [
              0.8888888888888888,
              "#fdca26"
             ],
             [
              1,
              "#f0f921"
             ]
            ],
            "type": "surface"
           }
          ],
          "table": [
           {
            "cells": {
             "fill": {
              "color": "#EBF0F8"
             },
             "line": {
              "color": "white"
             }
            },
            "header": {
             "fill": {
              "color": "#C8D4E3"
             },
             "line": {
              "color": "white"
             }
            },
            "type": "table"
           }
          ]
         },
         "layout": {
          "annotationdefaults": {
           "arrowcolor": "#2a3f5f",
           "arrowhead": 0,
           "arrowwidth": 1
          },
          "autotypenumbers": "strict",
          "coloraxis": {
           "colorbar": {
            "outlinewidth": 0,
            "ticks": ""
           }
          },
          "colorscale": {
           "diverging": [
            [
             0,
             "#8e0152"
            ],
            [
             0.1,
             "#c51b7d"
            ],
            [
             0.2,
             "#de77ae"
            ],
            [
             0.3,
             "#f1b6da"
            ],
            [
             0.4,
             "#fde0ef"
            ],
            [
             0.5,
             "#f7f7f7"
            ],
            [
             0.6,
             "#e6f5d0"
            ],
            [
             0.7,
             "#b8e186"
            ],
            [
             0.8,
             "#7fbc41"
            ],
            [
             0.9,
             "#4d9221"
            ],
            [
             1,
             "#276419"
            ]
           ],
           "sequential": [
            [
             0,
             "#0d0887"
            ],
            [
             0.1111111111111111,
             "#46039f"
            ],
            [
             0.2222222222222222,
             "#7201a8"
            ],
            [
             0.3333333333333333,
             "#9c179e"
            ],
            [
             0.4444444444444444,
             "#bd3786"
            ],
            [
             0.5555555555555556,
             "#d8576b"
            ],
            [
             0.6666666666666666,
             "#ed7953"
            ],
            [
             0.7777777777777778,
             "#fb9f3a"
            ],
            [
             0.8888888888888888,
             "#fdca26"
            ],
            [
             1,
             "#f0f921"
            ]
           ],
           "sequentialminus": [
            [
             0,
             "#0d0887"
            ],
            [
             0.1111111111111111,
             "#46039f"
            ],
            [
             0.2222222222222222,
             "#7201a8"
            ],
            [
             0.3333333333333333,
             "#9c179e"
            ],
            [
             0.4444444444444444,
             "#bd3786"
            ],
            [
             0.5555555555555556,
             "#d8576b"
            ],
            [
             0.6666666666666666,
             "#ed7953"
            ],
            [
             0.7777777777777778,
             "#fb9f3a"
            ],
            [
             0.8888888888888888,
             "#fdca26"
            ],
            [
             1,
             "#f0f921"
            ]
           ]
          },
          "colorway": [
           "#636efa",
           "#EF553B",
           "#00cc96",
           "#ab63fa",
           "#FFA15A",
           "#19d3f3",
           "#FF6692",
           "#B6E880",
           "#FF97FF",
           "#FECB52"
          ],
          "font": {
           "color": "#2a3f5f"
          },
          "geo": {
           "bgcolor": "white",
           "lakecolor": "white",
           "landcolor": "#E5ECF6",
           "showlakes": true,
           "showland": true,
           "subunitcolor": "white"
          },
          "hoverlabel": {
           "align": "left"
          },
          "hovermode": "closest",
          "mapbox": {
           "style": "light"
          },
          "paper_bgcolor": "white",
          "plot_bgcolor": "#E5ECF6",
          "polar": {
           "angularaxis": {
            "gridcolor": "white",
            "linecolor": "white",
            "ticks": ""
           },
           "bgcolor": "#E5ECF6",
           "radialaxis": {
            "gridcolor": "white",
            "linecolor": "white",
            "ticks": ""
           }
          },
          "scene": {
           "xaxis": {
            "backgroundcolor": "#E5ECF6",
            "gridcolor": "white",
            "gridwidth": 2,
            "linecolor": "white",
            "showbackground": true,
            "ticks": "",
            "zerolinecolor": "white"
           },
           "yaxis": {
            "backgroundcolor": "#E5ECF6",
            "gridcolor": "white",
            "gridwidth": 2,
            "linecolor": "white",
            "showbackground": true,
            "ticks": "",
            "zerolinecolor": "white"
           },
           "zaxis": {
            "backgroundcolor": "#E5ECF6",
            "gridcolor": "white",
            "gridwidth": 2,
            "linecolor": "white",
            "showbackground": true,
            "ticks": "",
            "zerolinecolor": "white"
           }
          },
          "shapedefaults": {
           "line": {
            "color": "#2a3f5f"
           }
          },
          "ternary": {
           "aaxis": {
            "gridcolor": "white",
            "linecolor": "white",
            "ticks": ""
           },
           "baxis": {
            "gridcolor": "white",
            "linecolor": "white",
            "ticks": ""
           },
           "bgcolor": "#E5ECF6",
           "caxis": {
            "gridcolor": "white",
            "linecolor": "white",
            "ticks": ""
           }
          },
          "title": {
           "x": 0.05
          },
          "xaxis": {
           "automargin": true,
           "gridcolor": "white",
           "linecolor": "white",
           "ticks": "",
           "title": {
            "standoff": 15
           },
           "zerolinecolor": "white",
           "zerolinewidth": 2
          },
          "yaxis": {
           "automargin": true,
           "gridcolor": "white",
           "linecolor": "white",
           "ticks": "",
           "title": {
            "standoff": 15
           },
           "zerolinecolor": "white",
           "zerolinewidth": 2
          }
         }
        },
        "title": {
         "text": "Visualization with Numeric Values",
         "x": 0.5
        },
        "width": 700,
        "xaxis": {
         "showgrid": false,
         "title": {
          "text": "Time"
         },
         "zeroline": false
        },
        "yaxis": {
         "automargin": true,
         "showgrid": false,
         "title": {
          "text": ""
         },
         "zeroline": false
        }
       }
      }
     },
     "metadata": {},
     "output_type": "display_data"
    }
   ],
   "source": [
    "import plotly.graph_objects as go\n",
    "import numpy as np\n",
    "\n",
    "# Example data for visualization (you can replace this with your own data)\n",
    "models = [\"Large Model\", \"LSTM\", \"DLinear\", \"Vanilla Transformer\"]\n",
    "time_steps = [\"T1\", \"T2\", \"T3\", \"T4\"]\n",
    "values = np.random.rand(4, 4) * 100  # Replace this with your real data\n",
    "\n",
    "# Define a custom color scale (red to blue, no white in the middle)\n",
    "custom_colorscale = [\n",
    "    [0.0, \"red\"],  # Minimum value -> Red\n",
    "    [1.0, \"blue\"]  # Maximum value -> Blue\n",
    "]\n",
    "\n",
    "# Create annotations for the heatmap (numeric values)\n",
    "annotations = []\n",
    "for i in range(len(models)):\n",
    "    for j in range(len(time_steps)):\n",
    "        annotations.append(\n",
    "            dict(\n",
    "                text=f\"{values[i, j]:.1f}\",  # Format numbers (1 decimal place)\n",
    "                x=time_steps[j],  # Corresponding column\n",
    "                y=models[i],  # Corresponding row\n",
    "                font=dict(color=\"white\"),  # Text color is fixed to white\n",
    "                showarrow=False\n",
    "            )\n",
    "        )\n",
    "\n",
    "# Create the heatmap\n",
    "fig = go.Figure(data=go.Heatmap(\n",
    "    z=values,  # Values for the heatmap\n",
    "    x=time_steps,  # Columns (Time steps)\n",
    "    y=models,  # Rows (Models)\n",
    "    colorscale=custom_colorscale,  # Custom color scale\n",
    "    colorbar=dict(\n",
    "        title=\"MAPE\",  # Title for the colorbar\n",
    "        titleside=\"right\",  # Position of the title\n",
    "        ticks=\"outside\"\n",
    "    )\n",
    "))\n",
    "\n",
    "# Add annotations (numbers inside the heatmap)\n",
    "fig.update_layout(annotations=annotations)\n",
    "\n",
    "# Update layout for better styling\n",
    "fig.update_layout(\n",
    "    title=\"Visualization with Numeric Values\",  # Title for the chart\n",
    "    title_x=0.5,\n",
    "    xaxis=dict(title=\"Time\", showgrid=False, zeroline=False),\n",
    "    yaxis=dict(title=\"\", showgrid=False, zeroline=False, automargin=True),\n",
    "    height=500,  # Adjust height\n",
    "    width=700,  # Adjust width\n",
    "    margin=dict(l=100, r=100, t=50, b=50)  # Margins for better layout\n",
    ")\n",
    "\n",
    "# Show the figure\n",
    "fig.show()\n"
   ]
  },
  {
   "cell_type": "code",
   "execution_count": 49,
   "metadata": {},
   "outputs": [
    {
     "data": {
      "application/vnd.plotly.v1+json": {
       "config": {
        "plotlyServerURL": "https://plot.ly"
       },
       "data": [
        {
         "marker": {
          "color": "rgb(179, 26, 35)",
          "pattern": {
           "shape": "",
           "size": 4
          }
         },
         "name": "Fine-Tuning",
         "type": "bar",
         "x": [
          "GIST",
          "Konstanz",
          "Miryang",
          "California",
          "Georgia",
          "UK"
         ],
         "y": [
          1.6008,
          1.0643,
          2.3044,
          5.1154,
          6.1461,
          7.4664
         ]
        },
        {
         "marker": {
          "color": "rgb(117, 81, 57)",
          "pattern": {
           "shape": "/",
           "size": 4
          }
         },
         "name": "Linear Probing",
         "type": "bar",
         "x": [
          "GIST",
          "Konstanz",
          "Miryang",
          "California",
          "Georgia",
          "UK"
         ],
         "y": [
          5.376,
          2.4999,
          3.4867,
          5.1154,
          6.1396,
          7.8598
         ]
        },
        {
         "marker": {
          "color": "rgb(92, 44, 53)",
          "pattern": {
           "shape": "\\",
           "size": 4
          }
         },
         "name": "Zero-Shot",
         "type": "bar",
         "x": [
          "GIST",
          "Konstanz",
          "Miryang",
          "California",
          "Georgia",
          "UK"
         ],
         "y": [
          6.127,
          3.2284,
          3.7475,
          5.2956,
          6.1932,
          8.6286
         ]
        },
        {
         "marker": {
          "color": "rgb(16, 59, 88)",
          "pattern": {
           "shape": ".",
           "size": 4
          }
         },
         "name": "Target-Only",
         "type": "bar",
         "x": [
          "GIST",
          "Konstanz",
          "Miryang",
          "California",
          "Georgia",
          "UK"
         ],
         "y": [
          2.1434,
          1.4745,
          3.1991,
          5.2644,
          6.6276,
          9.0415
         ]
        }
       ],
       "layout": {
        "barmode": "group",
        "height": 500,
        "legend": {
         "bgcolor": "white",
         "bordercolor": "black",
         "borderwidth": 2,
         "font": {
          "family": "Times New Roman",
          "size": 18
         },
         "x": 0.02,
         "xanchor": "left",
         "y": 0.98,
         "yanchor": "top"
        },
        "margin": {
         "b": 50,
         "l": 50,
         "r": 50,
         "t": 70
        },
        "paper_bgcolor": "white",
        "plot_bgcolor": "white",
        "template": {
         "data": {
          "bar": [
           {
            "error_x": {
             "color": "#2a3f5f"
            },
            "error_y": {
             "color": "#2a3f5f"
            },
            "marker": {
             "line": {
              "color": "white",
              "width": 0.5
             },
             "pattern": {
              "fillmode": "overlay",
              "size": 10,
              "solidity": 0.2
             }
            },
            "type": "bar"
           }
          ],
          "barpolar": [
           {
            "marker": {
             "line": {
              "color": "white",
              "width": 0.5
             },
             "pattern": {
              "fillmode": "overlay",
              "size": 10,
              "solidity": 0.2
             }
            },
            "type": "barpolar"
           }
          ],
          "carpet": [
           {
            "aaxis": {
             "endlinecolor": "#2a3f5f",
             "gridcolor": "#C8D4E3",
             "linecolor": "#C8D4E3",
             "minorgridcolor": "#C8D4E3",
             "startlinecolor": "#2a3f5f"
            },
            "baxis": {
             "endlinecolor": "#2a3f5f",
             "gridcolor": "#C8D4E3",
             "linecolor": "#C8D4E3",
             "minorgridcolor": "#C8D4E3",
             "startlinecolor": "#2a3f5f"
            },
            "type": "carpet"
           }
          ],
          "choropleth": [
           {
            "colorbar": {
             "outlinewidth": 0,
             "ticks": ""
            },
            "type": "choropleth"
           }
          ],
          "contour": [
           {
            "colorbar": {
             "outlinewidth": 0,
             "ticks": ""
            },
            "colorscale": [
             [
              0,
              "#0d0887"
             ],
             [
              0.1111111111111111,
              "#46039f"
             ],
             [
              0.2222222222222222,
              "#7201a8"
             ],
             [
              0.3333333333333333,
              "#9c179e"
             ],
             [
              0.4444444444444444,
              "#bd3786"
             ],
             [
              0.5555555555555556,
              "#d8576b"
             ],
             [
              0.6666666666666666,
              "#ed7953"
             ],
             [
              0.7777777777777778,
              "#fb9f3a"
             ],
             [
              0.8888888888888888,
              "#fdca26"
             ],
             [
              1,
              "#f0f921"
             ]
            ],
            "type": "contour"
           }
          ],
          "contourcarpet": [
           {
            "colorbar": {
             "outlinewidth": 0,
             "ticks": ""
            },
            "type": "contourcarpet"
           }
          ],
          "heatmap": [
           {
            "colorbar": {
             "outlinewidth": 0,
             "ticks": ""
            },
            "colorscale": [
             [
              0,
              "#0d0887"
             ],
             [
              0.1111111111111111,
              "#46039f"
             ],
             [
              0.2222222222222222,
              "#7201a8"
             ],
             [
              0.3333333333333333,
              "#9c179e"
             ],
             [
              0.4444444444444444,
              "#bd3786"
             ],
             [
              0.5555555555555556,
              "#d8576b"
             ],
             [
              0.6666666666666666,
              "#ed7953"
             ],
             [
              0.7777777777777778,
              "#fb9f3a"
             ],
             [
              0.8888888888888888,
              "#fdca26"
             ],
             [
              1,
              "#f0f921"
             ]
            ],
            "type": "heatmap"
           }
          ],
          "heatmapgl": [
           {
            "colorbar": {
             "outlinewidth": 0,
             "ticks": ""
            },
            "colorscale": [
             [
              0,
              "#0d0887"
             ],
             [
              0.1111111111111111,
              "#46039f"
             ],
             [
              0.2222222222222222,
              "#7201a8"
             ],
             [
              0.3333333333333333,
              "#9c179e"
             ],
             [
              0.4444444444444444,
              "#bd3786"
             ],
             [
              0.5555555555555556,
              "#d8576b"
             ],
             [
              0.6666666666666666,
              "#ed7953"
             ],
             [
              0.7777777777777778,
              "#fb9f3a"
             ],
             [
              0.8888888888888888,
              "#fdca26"
             ],
             [
              1,
              "#f0f921"
             ]
            ],
            "type": "heatmapgl"
           }
          ],
          "histogram": [
           {
            "marker": {
             "pattern": {
              "fillmode": "overlay",
              "size": 10,
              "solidity": 0.2
             }
            },
            "type": "histogram"
           }
          ],
          "histogram2d": [
           {
            "colorbar": {
             "outlinewidth": 0,
             "ticks": ""
            },
            "colorscale": [
             [
              0,
              "#0d0887"
             ],
             [
              0.1111111111111111,
              "#46039f"
             ],
             [
              0.2222222222222222,
              "#7201a8"
             ],
             [
              0.3333333333333333,
              "#9c179e"
             ],
             [
              0.4444444444444444,
              "#bd3786"
             ],
             [
              0.5555555555555556,
              "#d8576b"
             ],
             [
              0.6666666666666666,
              "#ed7953"
             ],
             [
              0.7777777777777778,
              "#fb9f3a"
             ],
             [
              0.8888888888888888,
              "#fdca26"
             ],
             [
              1,
              "#f0f921"
             ]
            ],
            "type": "histogram2d"
           }
          ],
          "histogram2dcontour": [
           {
            "colorbar": {
             "outlinewidth": 0,
             "ticks": ""
            },
            "colorscale": [
             [
              0,
              "#0d0887"
             ],
             [
              0.1111111111111111,
              "#46039f"
             ],
             [
              0.2222222222222222,
              "#7201a8"
             ],
             [
              0.3333333333333333,
              "#9c179e"
             ],
             [
              0.4444444444444444,
              "#bd3786"
             ],
             [
              0.5555555555555556,
              "#d8576b"
             ],
             [
              0.6666666666666666,
              "#ed7953"
             ],
             [
              0.7777777777777778,
              "#fb9f3a"
             ],
             [
              0.8888888888888888,
              "#fdca26"
             ],
             [
              1,
              "#f0f921"
             ]
            ],
            "type": "histogram2dcontour"
           }
          ],
          "mesh3d": [
           {
            "colorbar": {
             "outlinewidth": 0,
             "ticks": ""
            },
            "type": "mesh3d"
           }
          ],
          "parcoords": [
           {
            "line": {
             "colorbar": {
              "outlinewidth": 0,
              "ticks": ""
             }
            },
            "type": "parcoords"
           }
          ],
          "pie": [
           {
            "automargin": true,
            "type": "pie"
           }
          ],
          "scatter": [
           {
            "fillpattern": {
             "fillmode": "overlay",
             "size": 10,
             "solidity": 0.2
            },
            "type": "scatter"
           }
          ],
          "scatter3d": [
           {
            "line": {
             "colorbar": {
              "outlinewidth": 0,
              "ticks": ""
             }
            },
            "marker": {
             "colorbar": {
              "outlinewidth": 0,
              "ticks": ""
             }
            },
            "type": "scatter3d"
           }
          ],
          "scattercarpet": [
           {
            "marker": {
             "colorbar": {
              "outlinewidth": 0,
              "ticks": ""
             }
            },
            "type": "scattercarpet"
           }
          ],
          "scattergeo": [
           {
            "marker": {
             "colorbar": {
              "outlinewidth": 0,
              "ticks": ""
             }
            },
            "type": "scattergeo"
           }
          ],
          "scattergl": [
           {
            "marker": {
             "colorbar": {
              "outlinewidth": 0,
              "ticks": ""
             }
            },
            "type": "scattergl"
           }
          ],
          "scattermapbox": [
           {
            "marker": {
             "colorbar": {
              "outlinewidth": 0,
              "ticks": ""
             }
            },
            "type": "scattermapbox"
           }
          ],
          "scatterpolar": [
           {
            "marker": {
             "colorbar": {
              "outlinewidth": 0,
              "ticks": ""
             }
            },
            "type": "scatterpolar"
           }
          ],
          "scatterpolargl": [
           {
            "marker": {
             "colorbar": {
              "outlinewidth": 0,
              "ticks": ""
             }
            },
            "type": "scatterpolargl"
           }
          ],
          "scatterternary": [
           {
            "marker": {
             "colorbar": {
              "outlinewidth": 0,
              "ticks": ""
             }
            },
            "type": "scatterternary"
           }
          ],
          "surface": [
           {
            "colorbar": {
             "outlinewidth": 0,
             "ticks": ""
            },
            "colorscale": [
             [
              0,
              "#0d0887"
             ],
             [
              0.1111111111111111,
              "#46039f"
             ],
             [
              0.2222222222222222,
              "#7201a8"
             ],
             [
              0.3333333333333333,
              "#9c179e"
             ],
             [
              0.4444444444444444,
              "#bd3786"
             ],
             [
              0.5555555555555556,
              "#d8576b"
             ],
             [
              0.6666666666666666,
              "#ed7953"
             ],
             [
              0.7777777777777778,
              "#fb9f3a"
             ],
             [
              0.8888888888888888,
              "#fdca26"
             ],
             [
              1,
              "#f0f921"
             ]
            ],
            "type": "surface"
           }
          ],
          "table": [
           {
            "cells": {
             "fill": {
              "color": "#EBF0F8"
             },
             "line": {
              "color": "white"
             }
            },
            "header": {
             "fill": {
              "color": "#C8D4E3"
             },
             "line": {
              "color": "white"
             }
            },
            "type": "table"
           }
          ]
         },
         "layout": {
          "annotationdefaults": {
           "arrowcolor": "#2a3f5f",
           "arrowhead": 0,
           "arrowwidth": 1
          },
          "autotypenumbers": "strict",
          "coloraxis": {
           "colorbar": {
            "outlinewidth": 0,
            "ticks": ""
           }
          },
          "colorscale": {
           "diverging": [
            [
             0,
             "#8e0152"
            ],
            [
             0.1,
             "#c51b7d"
            ],
            [
             0.2,
             "#de77ae"
            ],
            [
             0.3,
             "#f1b6da"
            ],
            [
             0.4,
             "#fde0ef"
            ],
            [
             0.5,
             "#f7f7f7"
            ],
            [
             0.6,
             "#e6f5d0"
            ],
            [
             0.7,
             "#b8e186"
            ],
            [
             0.8,
             "#7fbc41"
            ],
            [
             0.9,
             "#4d9221"
            ],
            [
             1,
             "#276419"
            ]
           ],
           "sequential": [
            [
             0,
             "#0d0887"
            ],
            [
             0.1111111111111111,
             "#46039f"
            ],
            [
             0.2222222222222222,
             "#7201a8"
            ],
            [
             0.3333333333333333,
             "#9c179e"
            ],
            [
             0.4444444444444444,
             "#bd3786"
            ],
            [
             0.5555555555555556,
             "#d8576b"
            ],
            [
             0.6666666666666666,
             "#ed7953"
            ],
            [
             0.7777777777777778,
             "#fb9f3a"
            ],
            [
             0.8888888888888888,
             "#fdca26"
            ],
            [
             1,
             "#f0f921"
            ]
           ],
           "sequentialminus": [
            [
             0,
             "#0d0887"
            ],
            [
             0.1111111111111111,
             "#46039f"
            ],
            [
             0.2222222222222222,
             "#7201a8"
            ],
            [
             0.3333333333333333,
             "#9c179e"
            ],
            [
             0.4444444444444444,
             "#bd3786"
            ],
            [
             0.5555555555555556,
             "#d8576b"
            ],
            [
             0.6666666666666666,
             "#ed7953"
            ],
            [
             0.7777777777777778,
             "#fb9f3a"
            ],
            [
             0.8888888888888888,
             "#fdca26"
            ],
            [
             1,
             "#f0f921"
            ]
           ]
          },
          "colorway": [
           "#636efa",
           "#EF553B",
           "#00cc96",
           "#ab63fa",
           "#FFA15A",
           "#19d3f3",
           "#FF6692",
           "#B6E880",
           "#FF97FF",
           "#FECB52"
          ],
          "font": {
           "color": "#2a3f5f"
          },
          "geo": {
           "bgcolor": "white",
           "lakecolor": "white",
           "landcolor": "white",
           "showlakes": true,
           "showland": true,
           "subunitcolor": "#C8D4E3"
          },
          "hoverlabel": {
           "align": "left"
          },
          "hovermode": "closest",
          "mapbox": {
           "style": "light"
          },
          "paper_bgcolor": "white",
          "plot_bgcolor": "white",
          "polar": {
           "angularaxis": {
            "gridcolor": "#EBF0F8",
            "linecolor": "#EBF0F8",
            "ticks": ""
           },
           "bgcolor": "white",
           "radialaxis": {
            "gridcolor": "#EBF0F8",
            "linecolor": "#EBF0F8",
            "ticks": ""
           }
          },
          "scene": {
           "xaxis": {
            "backgroundcolor": "white",
            "gridcolor": "#DFE8F3",
            "gridwidth": 2,
            "linecolor": "#EBF0F8",
            "showbackground": true,
            "ticks": "",
            "zerolinecolor": "#EBF0F8"
           },
           "yaxis": {
            "backgroundcolor": "white",
            "gridcolor": "#DFE8F3",
            "gridwidth": 2,
            "linecolor": "#EBF0F8",
            "showbackground": true,
            "ticks": "",
            "zerolinecolor": "#EBF0F8"
           },
           "zaxis": {
            "backgroundcolor": "white",
            "gridcolor": "#DFE8F3",
            "gridwidth": 2,
            "linecolor": "#EBF0F8",
            "showbackground": true,
            "ticks": "",
            "zerolinecolor": "#EBF0F8"
           }
          },
          "shapedefaults": {
           "line": {
            "color": "#2a3f5f"
           }
          },
          "ternary": {
           "aaxis": {
            "gridcolor": "#DFE8F3",
            "linecolor": "#A2B1C6",
            "ticks": ""
           },
           "baxis": {
            "gridcolor": "#DFE8F3",
            "linecolor": "#A2B1C6",
            "ticks": ""
           },
           "bgcolor": "white",
           "caxis": {
            "gridcolor": "#DFE8F3",
            "linecolor": "#A2B1C6",
            "ticks": ""
           }
          },
          "title": {
           "x": 0.05
          },
          "xaxis": {
           "automargin": true,
           "gridcolor": "#EBF0F8",
           "linecolor": "#EBF0F8",
           "ticks": "",
           "title": {
            "standoff": 15
           },
           "zerolinecolor": "#EBF0F8",
           "zerolinewidth": 2
          },
          "yaxis": {
           "automargin": true,
           "gridcolor": "#EBF0F8",
           "linecolor": "#EBF0F8",
           "ticks": "",
           "title": {
            "standoff": 15
           },
           "zerolinecolor": "#EBF0F8",
           "zerolinewidth": 2
          }
         }
        },
        "width": 900,
        "xaxis": {
         "linecolor": "black",
         "linewidth": 2,
         "mirror": true,
         "showgrid": false,
         "showline": true,
         "tickfont": {
          "family": "Times New Roman",
          "size": 18
         },
         "title": {
          "font": {
           "family": "Times New Roman",
           "size": 18
          },
          "text": "Site Name"
         }
        },
        "yaxis": {
         "linecolor": "black",
         "linewidth": 2,
         "mirror": true,
         "showgrid": false,
         "showline": true,
         "tickcolor": "black",
         "tickfont": {
          "family": "Times New Roman",
          "size": 18
         },
         "ticks": "inside",
         "tickwidth": 2,
         "title": {
          "font": {
           "family": "Times New Roman",
           "size": 18
          },
          "text": "MAPE [%]"
         }
        }
       }
      }
     },
     "metadata": {},
     "output_type": "display_data"
    }
   ],
   "source": [
    "import plotly.graph_objects as go\n",
    "\n",
    "# Sample data\n",
    "sites = [\"GIST\", \"Konstanz\", \"Miryang\", \"California\", \"Georgia\", \"UK\"]\n",
    "methods = [\"Fine-Tuning\", \"Linear Probing\", \"Zero-Shot\", \"Target-Only\"]\n",
    "data = [\n",
    "    [1.6008, 5.3760, 6.1270, 2.1434],  # GIST\n",
    "    [1.0643, 2.4999, 3.2284, 1.4745],  # Konstanz\n",
    "    [2.3044, 3.4867, 3.7475, 3.1991],  # Miryang\n",
    "    [5.1154, 5.1154, 5.2956, 5.2644],  # California\n",
    "    [6.1461, 6.1396, 6.1932, 6.6276],  # Georgia\n",
    "    [7.4664, 7.8598, 8.6286, 9.0415]   # UK\n",
    "]\n",
    "\n",
    "# Custom colors and patterns\n",
    "method_colors = [\n",
    "    \"rgb(179, 26, 35)\",     # Adrenaline Rush for Fine-Tuning\n",
    "    \"rgb(117, 81, 57)\",     # Toffee for Linear Probing\n",
    "    \"rgb(92, 44, 53)\",      # Tawny Port for Zero-Shot\n",
    "    \"rgb(16, 59, 88)\"       # Blue Opal for Target-Only\n",
    "]\n",
    "method_patterns = [\"\", \"/\", \"\\\\\", \".\"]  # No pattern, diagonal stripe, reverse diagonal, dotted\n",
    "\n",
    "# Initialize figure\n",
    "fig = go.Figure()\n",
    "\n",
    "# Add bars with patterns\n",
    "for i, method in enumerate(methods):\n",
    "    fig.add_trace(go.Bar(\n",
    "        x=sites,\n",
    "        y=[row[i] for row in data],\n",
    "        name=method,\n",
    "        marker=dict(\n",
    "            color=method_colors[i],\n",
    "            pattern_shape=method_patterns[i],\n",
    "            pattern_size=4  # Smaller pattern size\n",
    "        )\n",
    "    ))\n",
    "\n",
    "# Update layout\n",
    "fig.update_layout(\n",
    "    xaxis=dict(\n",
    "        title=\"Site Name\",\n",
    "        titlefont=dict(family=\"Times New Roman\", size=18),\n",
    "        tickfont=dict(family=\"Times New Roman\", size=18),\n",
    "        showline=True,  # Add border line to x-axis\n",
    "        linewidth=2,\n",
    "        linecolor=\"black\",\n",
    "        mirror=True  # Add top border\n",
    "    ),\n",
    "    yaxis=dict(\n",
    "        title=\"MAPE [%]\",\n",
    "        titlefont=dict(family=\"Times New Roman\", size=18),\n",
    "        tickfont=dict(family=\"Times New Roman\", size=18),\n",
    "        showline=True,  # Add border line to y-axis\n",
    "        linewidth=2,\n",
    "        linecolor=\"black\",\n",
    "        mirror=True,  # Add right border\n",
    "        ticks=\"inside\",  # Add ticks inside the graph\n",
    "        tickwidth=2,\n",
    "        tickcolor=\"black\"\n",
    "    ),\n",
    "    legend=dict(\n",
    "        font=dict(family=\"Times New Roman\", size=18),  # Legend font\n",
    "        bordercolor=\"black\",  # Add border around legend\n",
    "        borderwidth=2,\n",
    "        x=0.02,  # Position legend inside the graph\n",
    "        y=0.98,\n",
    "        xanchor=\"left\",\n",
    "        yanchor=\"top\",\n",
    "        bgcolor=\"white\"  # Background color for legend box\n",
    "    ),\n",
    "    barmode=\"group\",\n",
    "    template=\"plotly_white\",\n",
    "    width=900,\n",
    "    height=500\n",
    ")\n",
    "\n",
    "# Add outer border to the entire graph\n",
    "fig.update_layout(\n",
    "    margin=dict(l=50, r=50, t=70, b=50),\n",
    "    paper_bgcolor=\"white\",\n",
    "    plot_bgcolor=\"white\",\n",
    "    xaxis_showgrid=False,\n",
    "    yaxis_showgrid=False\n",
    ")\n",
    "\n",
    "fig.show()\n"
   ]
  },
  {
   "cell_type": "code",
   "execution_count": 252,
   "metadata": {},
   "outputs": [
    {
     "data": {
      "application/vnd.plotly.v1+json": {
       "config": {
        "plotlyServerURL": "https://plot.ly"
       },
       "data": [
        {
         "colorbar": {
          "len": 0.35,
          "thickness": 25,
          "tickfont": {
           "family": "Times New Roman",
           "size": 13
          },
          "tickmode": "array",
          "ticktext": [
           "7.15",
           "6.44",
           "5.73"
          ],
          "tickvals": [
           7.1455,
           6.43735,
           5.7292
          ],
          "title": {
           "font": {
            "family": "Times New Roman",
            "size": 15
           },
           "text": "MAPE[%]"
          },
          "x": 0.25,
          "y": 0.965,
          "yanchor": "top"
         },
         "colorscale": [
          [
           0,
           "rgb(236, 218, 154)"
          ],
          [
           0.16666666666666666,
           "rgb(239, 196, 126)"
          ],
          [
           0.3333333333333333,
           "rgb(243, 173, 106)"
          ],
          [
           0.5,
           "rgb(247, 148, 93)"
          ],
          [
           0.6666666666666666,
           "rgb(249, 123, 87)"
          ],
          [
           0.8333333333333334,
           "rgb(246, 99, 86)"
          ],
          [
           1,
           "rgb(238, 77, 90)"
          ]
         ],
         "reversescale": true,
         "showscale": true,
         "text": [
          [
           "7.15",
           "6.71",
           "6.44"
          ],
          [
           "6.86",
           "6.47",
           "6.21"
          ],
          [
           "6.18",
           "5.87",
           "5.73"
          ]
         ],
         "textfont": {
          "color": "black",
          "family": "Times New Roman",
          "size": 15
         },
         "texttemplate": "%{text}",
         "type": "heatmap",
         "x": [
          "6 months",
          "9 months",
          "12 months"
         ],
         "xaxis": "x",
         "y": [
          "1/16",
          "1/8",
          "All"
         ],
         "yaxis": "y",
         "z": [
          [
           7.1455,
           6.7053,
           6.4413
          ],
          [
           6.8629,
           6.468,
           6.2141
          ],
          [
           6.1783,
           5.8742,
           5.7292
          ]
         ],
         "zmax": 5.7292,
         "zmin": 7.1455
        },
        {
         "colorbar": {
          "len": 0.35,
          "thickness": 25,
          "tickfont": {
           "family": "Times New Roman",
           "size": 13
          },
          "tickmode": "array",
          "ticktext": [
           "3.85",
           "3.30",
           "2.76"
          ],
          "tickvals": [
           3.8478,
           3.3025,
           2.7572
          ],
          "title": {
           "font": {
            "family": "Times New Roman",
            "size": 15
           },
           "text": ""
          },
          "x": 0.623,
          "y": 0.965,
          "yanchor": "top"
         },
         "colorscale": [
          [
           0,
           "rgb(236, 218, 154)"
          ],
          [
           0.16666666666666666,
           "rgb(239, 196, 126)"
          ],
          [
           0.3333333333333333,
           "rgb(243, 173, 106)"
          ],
          [
           0.5,
           "rgb(247, 148, 93)"
          ],
          [
           0.6666666666666666,
           "rgb(249, 123, 87)"
          ],
          [
           0.8333333333333334,
           "rgb(246, 99, 86)"
          ],
          [
           1,
           "rgb(238, 77, 90)"
          ]
         ],
         "reversescale": true,
         "showscale": true,
         "text": [
          [
           "3.85",
           "3.54",
           "3.28"
          ],
          [
           "3.65",
           "3.34",
           "3.07"
          ],
          [
           "3.32",
           "2.97",
           "2.76"
          ]
         ],
         "textfont": {
          "color": "black",
          "family": "Times New Roman",
          "size": 15
         },
         "texttemplate": "%{text}",
         "type": "heatmap",
         "x": [
          "6 months",
          "9 months",
          "12 months"
         ],
         "xaxis": "x2",
         "y": [
          "1/16",
          "1/8",
          "All"
         ],
         "yaxis": "y2",
         "z": [
          [
           3.8478,
           3.5435,
           3.2797
          ],
          [
           3.6522,
           3.3389,
           3.0737
          ],
          [
           3.3182,
           2.9681,
           2.7572
          ]
         ],
         "zmax": 2.7572,
         "zmin": 3.8478
        },
        {
         "colorbar": {
          "len": 0.35,
          "thickness": 25,
          "tickfont": {
           "family": "Times New Roman",
           "size": 13
          },
          "tickmode": "array",
          "ticktext": [
           "3.80",
           "3.43",
           "3.06"
          ],
          "tickvals": [
           3.7963,
           3.4284,
           3.0605
          ],
          "title": {
           "font": {
            "family": "Times New Roman",
            "size": 15
           },
           "text": ""
          },
          "x": 0.996,
          "y": 0.965,
          "yanchor": "top"
         },
         "colorscale": [
          [
           0,
           "rgb(236, 218, 154)"
          ],
          [
           0.16666666666666666,
           "rgb(239, 196, 126)"
          ],
          [
           0.3333333333333333,
           "rgb(243, 173, 106)"
          ],
          [
           0.5,
           "rgb(247, 148, 93)"
          ],
          [
           0.6666666666666666,
           "rgb(249, 123, 87)"
          ],
          [
           0.8333333333333334,
           "rgb(246, 99, 86)"
          ],
          [
           1,
           "rgb(238, 77, 90)"
          ]
         ],
         "reversescale": true,
         "showscale": true,
         "text": [
          [
           "3.80",
           "3.78",
           "3.74"
          ],
          [
           "3.30",
           "3.30",
           "3.32"
          ],
          [
           "3.21",
           "3.35",
           "3.06"
          ]
         ],
         "textfont": {
          "color": "black",
          "family": "Times New Roman",
          "size": 15
         },
         "texttemplate": "%{text}",
         "type": "heatmap",
         "x": [
          "6 months",
          "9 months",
          "12 months"
         ],
         "xaxis": "x3",
         "y": [
          "1/16",
          "1/8",
          "All"
         ],
         "yaxis": "y3",
         "z": [
          [
           3.7963,
           3.7823,
           3.7371
          ],
          [
           3.2975,
           3.2998,
           3.3247
          ],
          [
           3.2131,
           3.3475,
           3.0605
          ]
         ],
         "zmax": 3.0605,
         "zmin": 3.7963
        },
        {
         "colorbar": {
          "len": 0.35,
          "thickness": 25,
          "tickfont": {
           "family": "Times New Roman",
           "size": 13
          },
          "tickmode": "array",
          "ticktext": [
           "5.59",
           "5.24",
           "4.89"
          ],
          "tickvals": [
           5.5923,
           5.2435,
           4.8947
          ],
          "title": {
           "font": {
            "family": "Times New Roman",
            "size": 15
           },
           "text": ""
          },
          "x": 0.25,
          "y": 0.385,
          "yanchor": "top"
         },
         "colorscale": [
          [
           0,
           "rgb(236, 218, 154)"
          ],
          [
           0.16666666666666666,
           "rgb(239, 196, 126)"
          ],
          [
           0.3333333333333333,
           "rgb(243, 173, 106)"
          ],
          [
           0.5,
           "rgb(247, 148, 93)"
          ],
          [
           0.6666666666666666,
           "rgb(249, 123, 87)"
          ],
          [
           0.8333333333333334,
           "rgb(246, 99, 86)"
          ],
          [
           1,
           "rgb(238, 77, 90)"
          ]
         ],
         "reversescale": true,
         "showscale": true,
         "text": [
          [
           "5.59",
           "5.27",
           "5.24"
          ],
          [
           "5.48",
           "4.98",
           "5.08"
          ],
          [
           "5.28",
           "4.89",
           "4.95"
          ]
         ],
         "textfont": {
          "color": "black",
          "family": "Times New Roman",
          "size": 15
         },
         "texttemplate": "%{text}",
         "type": "heatmap",
         "x": [
          "6 months",
          "9 months",
          "12 months"
         ],
         "xaxis": "x4",
         "y": [
          "1/16",
          "1/8",
          "All"
         ],
         "yaxis": "y4",
         "z": [
          [
           5.5923,
           5.2748,
           5.2427
          ],
          [
           5.4798,
           4.9797,
           5.0834
          ],
          [
           5.2759,
           4.8947,
           4.9451
          ]
         ],
         "zmax": 4.8947,
         "zmin": 5.5923
        },
        {
         "colorbar": {
          "len": 0.35,
          "thickness": 25,
          "tickfont": {
           "family": "Times New Roman",
           "size": 13
          },
          "tickmode": "array",
          "ticktext": [
           "7.39",
           "6.62",
           "5.85"
          ],
          "tickvals": [
           7.3936,
           6.62275,
           5.8519
          ],
          "title": {
           "font": {
            "family": "Times New Roman",
            "size": 15
           },
           "text": ""
          },
          "x": 0.623,
          "y": 0.385,
          "yanchor": "top"
         },
         "colorscale": [
          [
           0,
           "rgb(236, 218, 154)"
          ],
          [
           0.16666666666666666,
           "rgb(239, 196, 126)"
          ],
          [
           0.3333333333333333,
           "rgb(243, 173, 106)"
          ],
          [
           0.5,
           "rgb(247, 148, 93)"
          ],
          [
           0.6666666666666666,
           "rgb(249, 123, 87)"
          ],
          [
           0.8333333333333334,
           "rgb(246, 99, 86)"
          ],
          [
           1,
           "rgb(238, 77, 90)"
          ]
         ],
         "reversescale": true,
         "showscale": true,
         "text": [
          [
           "7.39",
           "6.31",
           "6.50"
          ],
          [
           "6.13",
           "6.01",
           "6.19"
          ],
          [
           "6.12",
           "5.85",
           "5.88"
          ]
         ],
         "textfont": {
          "color": "black",
          "family": "Times New Roman",
          "size": 15
         },
         "texttemplate": "%{text}",
         "type": "heatmap",
         "x": [
          "6 months",
          "9 months",
          "12 months"
         ],
         "xaxis": "x5",
         "y": [
          "1/16",
          "1/8",
          "All"
         ],
         "yaxis": "y5",
         "z": [
          [
           7.3936,
           6.3121,
           6.4992
          ],
          [
           6.1299,
           6.0094,
           6.1892
          ],
          [
           6.1232,
           5.8519,
           5.8817
          ]
         ],
         "zmax": 5.8519,
         "zmin": 7.3936
        },
        {
         "colorbar": {
          "len": 0.35,
          "thickness": 25,
          "tickfont": {
           "family": "Times New Roman",
           "size": 13
          },
          "tickmode": "array",
          "ticktext": [
           "9.32",
           "8.39",
           "7.47"
          ],
          "tickvals": [
           9.3227,
           8.394549999999999,
           7.4664
          ],
          "title": {
           "font": {
            "family": "Times New Roman",
            "size": 15
           },
           "text": ""
          },
          "x": 0.996,
          "y": 0.385,
          "yanchor": "top"
         },
         "colorscale": [
          [
           0,
           "rgb(236, 218, 154)"
          ],
          [
           0.16666666666666666,
           "rgb(239, 196, 126)"
          ],
          [
           0.3333333333333333,
           "rgb(243, 173, 106)"
          ],
          [
           0.5,
           "rgb(247, 148, 93)"
          ],
          [
           0.6666666666666666,
           "rgb(249, 123, 87)"
          ],
          [
           0.8333333333333334,
           "rgb(246, 99, 86)"
          ],
          [
           1,
           "rgb(238, 77, 90)"
          ]
         ],
         "reversescale": true,
         "showscale": true,
         "text": [
          [
           "8.77",
           "8.17",
           ""
          ],
          [
           "9.32",
           "7.95",
           ""
          ],
          [
           "8.79",
           "7.47",
           ""
          ]
         ],
         "textfont": {
          "color": "black",
          "family": "Times New Roman",
          "size": 15
         },
         "texttemplate": "%{text}",
         "type": "heatmap",
         "x": [
          "6 months",
          "9 months",
          ""
         ],
         "xaxis": "x6",
         "y": [
          "1/16",
          "1/8",
          "All"
         ],
         "yaxis": "y6",
         "z": [
          [
           8.7683,
           8.1745,
           null
          ],
          [
           9.3227,
           7.9535,
           null
          ],
          [
           8.7944,
           7.4664,
           null
          ]
         ],
         "zmax": 7.4664,
         "zmin": 9.3227
        }
       ],
       "layout": {
        "annotations": [
         {
          "font": {
           "family": "Times New Roman",
           "size": 18
          },
          "showarrow": false,
          "text": "GIST",
          "x": 0.12666666666666668,
          "xanchor": "center",
          "xref": "paper",
          "y": 1,
          "yanchor": "bottom",
          "yref": "paper"
         },
         {
          "font": {
           "family": "Times New Roman",
           "size": 18
          },
          "showarrow": false,
          "text": "Miryang",
          "x": 0.5,
          "xanchor": "center",
          "xref": "paper",
          "y": 1,
          "yanchor": "bottom",
          "yref": "paper"
         },
         {
          "font": {
           "family": "Times New Roman",
           "size": 18
          },
          "showarrow": false,
          "text": "Germany",
          "x": 0.8733333333333333,
          "xanchor": "center",
          "xref": "paper",
          "y": 1,
          "yanchor": "bottom",
          "yref": "paper"
         },
         {
          "font": {
           "family": "Times New Roman",
           "size": 18
          },
          "showarrow": false,
          "text": "California",
          "x": 0.12666666666666668,
          "xanchor": "center",
          "xref": "paper",
          "y": 0.425,
          "yanchor": "bottom",
          "yref": "paper"
         },
         {
          "font": {
           "family": "Times New Roman",
           "size": 18
          },
          "showarrow": false,
          "text": "Georgia",
          "x": 0.5,
          "xanchor": "center",
          "xref": "paper",
          "y": 0.425,
          "yanchor": "bottom",
          "yref": "paper"
         },
         {
          "font": {
           "family": "Times New Roman",
           "size": 18
          },
          "showarrow": false,
          "text": "UK",
          "x": 0.8733333333333333,
          "xanchor": "center",
          "xref": "paper",
          "y": 0.425,
          "yanchor": "bottom",
          "yref": "paper"
         }
        ],
        "font": {
         "family": "Times New Roman"
        },
        "height": 800,
        "margin": {
         "b": 40,
         "t": 80
        },
        "showlegend": false,
        "template": {
         "data": {
          "bar": [
           {
            "error_x": {
             "color": "#2a3f5f"
            },
            "error_y": {
             "color": "#2a3f5f"
            },
            "marker": {
             "line": {
              "color": "#E5ECF6",
              "width": 0.5
             },
             "pattern": {
              "fillmode": "overlay",
              "size": 10,
              "solidity": 0.2
             }
            },
            "type": "bar"
           }
          ],
          "barpolar": [
           {
            "marker": {
             "line": {
              "color": "#E5ECF6",
              "width": 0.5
             },
             "pattern": {
              "fillmode": "overlay",
              "size": 10,
              "solidity": 0.2
             }
            },
            "type": "barpolar"
           }
          ],
          "carpet": [
           {
            "aaxis": {
             "endlinecolor": "#2a3f5f",
             "gridcolor": "white",
             "linecolor": "white",
             "minorgridcolor": "white",
             "startlinecolor": "#2a3f5f"
            },
            "baxis": {
             "endlinecolor": "#2a3f5f",
             "gridcolor": "white",
             "linecolor": "white",
             "minorgridcolor": "white",
             "startlinecolor": "#2a3f5f"
            },
            "type": "carpet"
           }
          ],
          "choropleth": [
           {
            "colorbar": {
             "outlinewidth": 0,
             "ticks": ""
            },
            "type": "choropleth"
           }
          ],
          "contour": [
           {
            "colorbar": {
             "outlinewidth": 0,
             "ticks": ""
            },
            "colorscale": [
             [
              0,
              "#0d0887"
             ],
             [
              0.1111111111111111,
              "#46039f"
             ],
             [
              0.2222222222222222,
              "#7201a8"
             ],
             [
              0.3333333333333333,
              "#9c179e"
             ],
             [
              0.4444444444444444,
              "#bd3786"
             ],
             [
              0.5555555555555556,
              "#d8576b"
             ],
             [
              0.6666666666666666,
              "#ed7953"
             ],
             [
              0.7777777777777778,
              "#fb9f3a"
             ],
             [
              0.8888888888888888,
              "#fdca26"
             ],
             [
              1,
              "#f0f921"
             ]
            ],
            "type": "contour"
           }
          ],
          "contourcarpet": [
           {
            "colorbar": {
             "outlinewidth": 0,
             "ticks": ""
            },
            "type": "contourcarpet"
           }
          ],
          "heatmap": [
           {
            "colorbar": {
             "outlinewidth": 0,
             "ticks": ""
            },
            "colorscale": [
             [
              0,
              "#0d0887"
             ],
             [
              0.1111111111111111,
              "#46039f"
             ],
             [
              0.2222222222222222,
              "#7201a8"
             ],
             [
              0.3333333333333333,
              "#9c179e"
             ],
             [
              0.4444444444444444,
              "#bd3786"
             ],
             [
              0.5555555555555556,
              "#d8576b"
             ],
             [
              0.6666666666666666,
              "#ed7953"
             ],
             [
              0.7777777777777778,
              "#fb9f3a"
             ],
             [
              0.8888888888888888,
              "#fdca26"
             ],
             [
              1,
              "#f0f921"
             ]
            ],
            "type": "heatmap"
           }
          ],
          "heatmapgl": [
           {
            "colorbar": {
             "outlinewidth": 0,
             "ticks": ""
            },
            "colorscale": [
             [
              0,
              "#0d0887"
             ],
             [
              0.1111111111111111,
              "#46039f"
             ],
             [
              0.2222222222222222,
              "#7201a8"
             ],
             [
              0.3333333333333333,
              "#9c179e"
             ],
             [
              0.4444444444444444,
              "#bd3786"
             ],
             [
              0.5555555555555556,
              "#d8576b"
             ],
             [
              0.6666666666666666,
              "#ed7953"
             ],
             [
              0.7777777777777778,
              "#fb9f3a"
             ],
             [
              0.8888888888888888,
              "#fdca26"
             ],
             [
              1,
              "#f0f921"
             ]
            ],
            "type": "heatmapgl"
           }
          ],
          "histogram": [
           {
            "marker": {
             "pattern": {
              "fillmode": "overlay",
              "size": 10,
              "solidity": 0.2
             }
            },
            "type": "histogram"
           }
          ],
          "histogram2d": [
           {
            "colorbar": {
             "outlinewidth": 0,
             "ticks": ""
            },
            "colorscale": [
             [
              0,
              "#0d0887"
             ],
             [
              0.1111111111111111,
              "#46039f"
             ],
             [
              0.2222222222222222,
              "#7201a8"
             ],
             [
              0.3333333333333333,
              "#9c179e"
             ],
             [
              0.4444444444444444,
              "#bd3786"
             ],
             [
              0.5555555555555556,
              "#d8576b"
             ],
             [
              0.6666666666666666,
              "#ed7953"
             ],
             [
              0.7777777777777778,
              "#fb9f3a"
             ],
             [
              0.8888888888888888,
              "#fdca26"
             ],
             [
              1,
              "#f0f921"
             ]
            ],
            "type": "histogram2d"
           }
          ],
          "histogram2dcontour": [
           {
            "colorbar": {
             "outlinewidth": 0,
             "ticks": ""
            },
            "colorscale": [
             [
              0,
              "#0d0887"
             ],
             [
              0.1111111111111111,
              "#46039f"
             ],
             [
              0.2222222222222222,
              "#7201a8"
             ],
             [
              0.3333333333333333,
              "#9c179e"
             ],
             [
              0.4444444444444444,
              "#bd3786"
             ],
             [
              0.5555555555555556,
              "#d8576b"
             ],
             [
              0.6666666666666666,
              "#ed7953"
             ],
             [
              0.7777777777777778,
              "#fb9f3a"
             ],
             [
              0.8888888888888888,
              "#fdca26"
             ],
             [
              1,
              "#f0f921"
             ]
            ],
            "type": "histogram2dcontour"
           }
          ],
          "mesh3d": [
           {
            "colorbar": {
             "outlinewidth": 0,
             "ticks": ""
            },
            "type": "mesh3d"
           }
          ],
          "parcoords": [
           {
            "line": {
             "colorbar": {
              "outlinewidth": 0,
              "ticks": ""
             }
            },
            "type": "parcoords"
           }
          ],
          "pie": [
           {
            "automargin": true,
            "type": "pie"
           }
          ],
          "scatter": [
           {
            "fillpattern": {
             "fillmode": "overlay",
             "size": 10,
             "solidity": 0.2
            },
            "type": "scatter"
           }
          ],
          "scatter3d": [
           {
            "line": {
             "colorbar": {
              "outlinewidth": 0,
              "ticks": ""
             }
            },
            "marker": {
             "colorbar": {
              "outlinewidth": 0,
              "ticks": ""
             }
            },
            "type": "scatter3d"
           }
          ],
          "scattercarpet": [
           {
            "marker": {
             "colorbar": {
              "outlinewidth": 0,
              "ticks": ""
             }
            },
            "type": "scattercarpet"
           }
          ],
          "scattergeo": [
           {
            "marker": {
             "colorbar": {
              "outlinewidth": 0,
              "ticks": ""
             }
            },
            "type": "scattergeo"
           }
          ],
          "scattergl": [
           {
            "marker": {
             "colorbar": {
              "outlinewidth": 0,
              "ticks": ""
             }
            },
            "type": "scattergl"
           }
          ],
          "scattermapbox": [
           {
            "marker": {
             "colorbar": {
              "outlinewidth": 0,
              "ticks": ""
             }
            },
            "type": "scattermapbox"
           }
          ],
          "scatterpolar": [
           {
            "marker": {
             "colorbar": {
              "outlinewidth": 0,
              "ticks": ""
             }
            },
            "type": "scatterpolar"
           }
          ],
          "scatterpolargl": [
           {
            "marker": {
             "colorbar": {
              "outlinewidth": 0,
              "ticks": ""
             }
            },
            "type": "scatterpolargl"
           }
          ],
          "scatterternary": [
           {
            "marker": {
             "colorbar": {
              "outlinewidth": 0,
              "ticks": ""
             }
            },
            "type": "scatterternary"
           }
          ],
          "surface": [
           {
            "colorbar": {
             "outlinewidth": 0,
             "ticks": ""
            },
            "colorscale": [
             [
              0,
              "#0d0887"
             ],
             [
              0.1111111111111111,
              "#46039f"
             ],
             [
              0.2222222222222222,
              "#7201a8"
             ],
             [
              0.3333333333333333,
              "#9c179e"
             ],
             [
              0.4444444444444444,
              "#bd3786"
             ],
             [
              0.5555555555555556,
              "#d8576b"
             ],
             [
              0.6666666666666666,
              "#ed7953"
             ],
             [
              0.7777777777777778,
              "#fb9f3a"
             ],
             [
              0.8888888888888888,
              "#fdca26"
             ],
             [
              1,
              "#f0f921"
             ]
            ],
            "type": "surface"
           }
          ],
          "table": [
           {
            "cells": {
             "fill": {
              "color": "#EBF0F8"
             },
             "line": {
              "color": "white"
             }
            },
            "header": {
             "fill": {
              "color": "#C8D4E3"
             },
             "line": {
              "color": "white"
             }
            },
            "type": "table"
           }
          ]
         },
         "layout": {
          "annotationdefaults": {
           "arrowcolor": "#2a3f5f",
           "arrowhead": 0,
           "arrowwidth": 1
          },
          "autotypenumbers": "strict",
          "coloraxis": {
           "colorbar": {
            "outlinewidth": 0,
            "ticks": ""
           }
          },
          "colorscale": {
           "diverging": [
            [
             0,
             "#8e0152"
            ],
            [
             0.1,
             "#c51b7d"
            ],
            [
             0.2,
             "#de77ae"
            ],
            [
             0.3,
             "#f1b6da"
            ],
            [
             0.4,
             "#fde0ef"
            ],
            [
             0.5,
             "#f7f7f7"
            ],
            [
             0.6,
             "#e6f5d0"
            ],
            [
             0.7,
             "#b8e186"
            ],
            [
             0.8,
             "#7fbc41"
            ],
            [
             0.9,
             "#4d9221"
            ],
            [
             1,
             "#276419"
            ]
           ],
           "sequential": [
            [
             0,
             "#0d0887"
            ],
            [
             0.1111111111111111,
             "#46039f"
            ],
            [
             0.2222222222222222,
             "#7201a8"
            ],
            [
             0.3333333333333333,
             "#9c179e"
            ],
            [
             0.4444444444444444,
             "#bd3786"
            ],
            [
             0.5555555555555556,
             "#d8576b"
            ],
            [
             0.6666666666666666,
             "#ed7953"
            ],
            [
             0.7777777777777778,
             "#fb9f3a"
            ],
            [
             0.8888888888888888,
             "#fdca26"
            ],
            [
             1,
             "#f0f921"
            ]
           ],
           "sequentialminus": [
            [
             0,
             "#0d0887"
            ],
            [
             0.1111111111111111,
             "#46039f"
            ],
            [
             0.2222222222222222,
             "#7201a8"
            ],
            [
             0.3333333333333333,
             "#9c179e"
            ],
            [
             0.4444444444444444,
             "#bd3786"
            ],
            [
             0.5555555555555556,
             "#d8576b"
            ],
            [
             0.6666666666666666,
             "#ed7953"
            ],
            [
             0.7777777777777778,
             "#fb9f3a"
            ],
            [
             0.8888888888888888,
             "#fdca26"
            ],
            [
             1,
             "#f0f921"
            ]
           ]
          },
          "colorway": [
           "#636efa",
           "#EF553B",
           "#00cc96",
           "#ab63fa",
           "#FFA15A",
           "#19d3f3",
           "#FF6692",
           "#B6E880",
           "#FF97FF",
           "#FECB52"
          ],
          "font": {
           "color": "#2a3f5f"
          },
          "geo": {
           "bgcolor": "white",
           "lakecolor": "white",
           "landcolor": "#E5ECF6",
           "showlakes": true,
           "showland": true,
           "subunitcolor": "white"
          },
          "hoverlabel": {
           "align": "left"
          },
          "hovermode": "closest",
          "mapbox": {
           "style": "light"
          },
          "paper_bgcolor": "white",
          "plot_bgcolor": "#E5ECF6",
          "polar": {
           "angularaxis": {
            "gridcolor": "white",
            "linecolor": "white",
            "ticks": ""
           },
           "bgcolor": "#E5ECF6",
           "radialaxis": {
            "gridcolor": "white",
            "linecolor": "white",
            "ticks": ""
           }
          },
          "scene": {
           "xaxis": {
            "backgroundcolor": "#E5ECF6",
            "gridcolor": "white",
            "gridwidth": 2,
            "linecolor": "white",
            "showbackground": true,
            "ticks": "",
            "zerolinecolor": "white"
           },
           "yaxis": {
            "backgroundcolor": "#E5ECF6",
            "gridcolor": "white",
            "gridwidth": 2,
            "linecolor": "white",
            "showbackground": true,
            "ticks": "",
            "zerolinecolor": "white"
           },
           "zaxis": {
            "backgroundcolor": "#E5ECF6",
            "gridcolor": "white",
            "gridwidth": 2,
            "linecolor": "white",
            "showbackground": true,
            "ticks": "",
            "zerolinecolor": "white"
           }
          },
          "shapedefaults": {
           "line": {
            "color": "#2a3f5f"
           }
          },
          "ternary": {
           "aaxis": {
            "gridcolor": "white",
            "linecolor": "white",
            "ticks": ""
           },
           "baxis": {
            "gridcolor": "white",
            "linecolor": "white",
            "ticks": ""
           },
           "bgcolor": "#E5ECF6",
           "caxis": {
            "gridcolor": "white",
            "linecolor": "white",
            "ticks": ""
           }
          },
          "title": {
           "x": 0.05
          },
          "xaxis": {
           "automargin": true,
           "gridcolor": "white",
           "linecolor": "white",
           "ticks": "",
           "title": {
            "standoff": 15
           },
           "zerolinecolor": "white",
           "zerolinewidth": 2
          },
          "yaxis": {
           "automargin": true,
           "gridcolor": "white",
           "linecolor": "white",
           "ticks": "",
           "title": {
            "standoff": 15
           },
           "zerolinecolor": "white",
           "zerolinewidth": 2
          }
         }
        },
        "title": {
         "font": {
          "family": "Times New Roman"
         },
         "x": 0.5
        },
        "width": 1200,
        "xaxis": {
         "anchor": "y",
         "domain": [
          0,
          0.25333333333333335
         ],
         "tickfont": {
          "family": "Times New Roman",
          "size": 16
         },
         "title": {
          "font": {
           "family": "Times New Roman",
           "size": 16
          },
          "text": "Target Dataset Length"
         }
        },
        "xaxis2": {
         "anchor": "y2",
         "domain": [
          0.37333333333333335,
          0.6266666666666667
         ],
         "tickfont": {
          "family": "Times New Roman",
          "size": 16
         }
        },
        "xaxis3": {
         "anchor": "y3",
         "domain": [
          0.7466666666666667,
          1
         ],
         "tickfont": {
          "family": "Times New Roman",
          "size": 16
         }
        },
        "xaxis4": {
         "anchor": "y4",
         "domain": [
          0,
          0.25333333333333335
         ],
         "tickfont": {
          "family": "Times New Roman",
          "size": 16
         }
        },
        "xaxis5": {
         "anchor": "y5",
         "domain": [
          0.37333333333333335,
          0.6266666666666667
         ],
         "tickfont": {
          "family": "Times New Roman",
          "size": 16
         }
        },
        "xaxis6": {
         "anchor": "y6",
         "domain": [
          0.7466666666666667,
          1
         ],
         "tickfont": {
          "family": "Times New Roman",
          "size": 16
         }
        },
        "yaxis": {
         "anchor": "x",
         "domain": [
          0.575,
          1
         ],
         "tickfont": {
          "family": "Times New Roman",
          "size": 16
         },
         "title": {
          "font": {
           "family": "Times New Roman",
           "size": 16
          },
          "text": "Source Dataset Volume"
         }
        },
        "yaxis2": {
         "anchor": "x2",
         "domain": [
          0.575,
          1
         ],
         "tickfont": {
          "family": "Times New Roman",
          "size": 16
         }
        },
        "yaxis3": {
         "anchor": "x3",
         "domain": [
          0.575,
          1
         ],
         "tickfont": {
          "family": "Times New Roman",
          "size": 16
         }
        },
        "yaxis4": {
         "anchor": "x4",
         "domain": [
          0,
          0.425
         ],
         "tickfont": {
          "family": "Times New Roman",
          "size": 16
         }
        },
        "yaxis5": {
         "anchor": "x5",
         "domain": [
          0,
          0.425
         ],
         "tickfont": {
          "family": "Times New Roman",
          "size": 16
         }
        },
        "yaxis6": {
         "anchor": "x6",
         "domain": [
          0,
          0.425
         ],
         "tickfont": {
          "family": "Times New Roman",
          "size": 16
         }
        }
       }
      }
     },
     "metadata": {},
     "output_type": "display_data"
    }
   ],
   "source": [
    "import plotly.graph_objects as go\n",
    "from plotly.subplots import make_subplots\n",
    "import numpy as np\n",
    "\n",
    "# Data setup\n",
    "sites = [\"GIST\", \"Miryang\", \"Germany\", \"California\", \"Georgia\", \"UK\"]\n",
    "x_labels = [\"6 months\", \"9 months\", \"12 months\"]\n",
    "x_labels_UK = [\"6 months\", \"9 months\", \"\"]\n",
    "y_labels = [\"1/16\", \"1/8\", \"All\"]\n",
    "\n",
    "data = {\n",
    "    \"GIST\": [[7.1455, 6.7053, 6.4413], [6.8629, 6.468, 6.2141], [6.1783, 5.8742, 5.7292]],\n",
    "    \"Germany\": [[3.7963, 3.7823, 3.7371], [3.2975, 3.2998, 3.3247], [3.2131, 3.3475, 3.0605]],\n",
    "    \"Miryang\": [[3.8478, 3.5435, 3.2797], [3.6522, 3.3389, 3.0737], [3.3182, 2.9681, 2.7572]],\n",
    "    \"California\": [[5.5923, 5.2748, 5.2427], [5.4798, 4.9797, 5.0834], [5.2759, 4.8947, 4.9451]],\n",
    "    \"Georgia\": [[7.3936, 6.3121, 6.4992], [6.1299, 6.0094, 6.1892], [6.1232, 5.8519, 5.8817]],\n",
    "    \"UK\": [[8.7683, 8.1745, None], [9.3227, 7.9535, None], [8.7944, 7.4664, None]]\n",
    "}\n",
    "\n",
    "# Create figure with 2x3 subplots\n",
    "fig = make_subplots(\n",
    "    rows=2, cols=3,\n",
    "    subplot_titles=sites,\n",
    "    horizontal_spacing=0.12,  # Increased spacing more\n",
    "    vertical_spacing=0.15\n",
    ")\n",
    "\n",
    "# Calculate colorbar positions - adjusted for more even spacing\n",
    "colorbar_x = [0.25, 0.623, 0.996]  # Adjusted x positions\n",
    "\n",
    "# Add heatmaps\n",
    "for idx, site in enumerate(sites):\n",
    "    row = idx // 3 + 1\n",
    "    col = idx % 3 + 1\n",
    "    \n",
    "    # Get min and max values for this site's data\n",
    "    site_data = np.array(data[site])\n",
    "    site_min = np.nanmin(site_data[site_data != None])\n",
    "    site_max = np.nanmax(site_data[site_data != None])\n",
    "\n",
    "    # Set colorbar title based on site\n",
    "    colorbar_title = 'MAPE[%]' if site == 'GIST' else None\n",
    "    x_labels = x_labels_UK if site == 'UK' else x_labels\n",
    "    \n",
    "    \n",
    "    # Add heatmaps 부분을 다음과 같이 수정:\n",
    "    fig.add_trace(\n",
    "        go.Heatmap(\n",
    "            z=data[site],\n",
    "            x=x_labels,\n",
    "            y=y_labels,\n",
    "            # colorscale='Viridis', # Cividis, ylorrd\n",
    "            colorscale='oryel',  # Change colorscale\n",
    "            reversescale=True,  # 색상 순서를 반전\n",
    "            text=[[f'{val:.2f}' if val is not None else '' for val in row] for row in data[site]],\n",
    "            texttemplate='%{text}',\n",
    "            textfont={\"size\": 15, \"color\": \"black\", \"family\": \"Times New Roman\"},\n",
    "            showscale=True,\n",
    "            colorbar=dict(\n",
    "                title=dict(\n",
    "                    text=colorbar_title if colorbar_title else '',\n",
    "                    font=dict(\n",
    "                        family=\"Times New Roman\",\n",
    "                        size=15,\n",
    "                    ),\n",
    "                ),\n",
    "                x=colorbar_x[col-1],\n",
    "                y=0.965 if row == 1 else 0.385,  # y 위치를 더 위로 올림\n",
    "                len=0.35,  # colorbar 길이를 줄임\n",
    "                thickness=25,\n",
    "                yanchor='top',\n",
    "                tickmode='array',\n",
    "                # tickvals=[site_min, (site_min + site_max)/2, site_max],\n",
    "                # ticktext=[f'{site_min:.2f}', f'{(site_min + site_max)/2:.2f}', f'{site_max:.2f}'],\n",
    "                tickvals=[site_max, (site_min + site_max)/2, site_min],\n",
    "                ticktext=[f'{site_max:.2f}', f'{(site_min + site_max)/2:.2f}', f'{site_min:.2f}'],\n",
    "                tickfont=dict(family=\"Times New Roman\", size=13),\n",
    "                # autorange=\"reversed\"  # colorbar 값 순서 반전\n",
    "            ),\n",
    "            # zmin=site_min,\n",
    "            # zmax=site_max\n",
    "            zmin=site_max,\n",
    "            zmax=site_min\n",
    "        ),\n",
    "        row=row, col=col\n",
    "    )\n",
    "\n",
    "# Update layout\n",
    "fig.update_layout(\n",
    "    height=800,\n",
    "    width=1200,\n",
    "    # title_text='Source Data Volume vs Target Data Length Heatmaps',\n",
    "    title_x=0.5,\n",
    "    showlegend=False,\n",
    "    margin=dict(t=80, b=40),\n",
    "    title_font_family=\"Times New Roman\",  # 메인 제목 글씨체\n",
    "    font_family=\"Times New Roman\"  # 전체 기본 글씨체\n",
    ")\n",
    "\n",
    "# subplot titles 글꼴 크기도 조정\n",
    "for annotation in fig.layout.annotations:\n",
    "    annotation.font.update(\n",
    "        family='Times New Roman',\n",
    "        size=18  # subplot title 글씨 크기\n",
    "    )\n",
    "\n",
    "for row in range(1, 3):  # 2행\n",
    "    for col in range(1, 4):  # 3열\n",
    "        fig.update_xaxes(\n",
    "            tickfont=dict(size=16, family=\"Times New Roman\"),  # x축 눈금 레이블 크기\n",
    "            row=row, col=col\n",
    "        )\n",
    "        fig.update_yaxes(\n",
    "            tickfont=dict(size=16, family=\"Times New Roman\"),  # y축 눈금 레이블 크기\n",
    "            row=row, col=col\n",
    "        )\n",
    "\n",
    "# Add axis labels only to the leftmost plots\n",
    "i=1\n",
    "row = (i-1)//3 + 1\n",
    "col = (i-1)%3 + 1\n",
    "fig.update_xaxes(\n",
    "    title_text='Target Dataset Length',\n",
    "    title_font=dict(size=16, family=\"Times New Roman\"),\n",
    "    row=row, col=col\n",
    ")\n",
    "fig.update_yaxes(\n",
    "    title_text='Source Dataset Volume',\n",
    "    title_font=dict(size=16, family=\"Times New Roman\"),\n",
    "    row=row, col=col\n",
    ")\n",
    "\n",
    "# subplot 제목 글씨체도 변경\n",
    "for annotation in fig.layout.annotations:\n",
    "    annotation.font.family = 'Times New Roman'\n",
    "\n",
    "# Show figure\n",
    "fig.show()"
   ]
  }
 ],
 "metadata": {
  "kernelspec": {
   "display_name": "pv",
   "language": "python",
   "name": "python3"
  },
  "language_info": {
   "codemirror_mode": {
    "name": "ipython",
    "version": 3
   },
   "file_extension": ".py",
   "mimetype": "text/x-python",
   "name": "python",
   "nbconvert_exporter": "python",
   "pygments_lexer": "ipython3",
   "version": "3.10.14"
  }
 },
 "nbformat": 4,
 "nbformat_minor": 2
}
